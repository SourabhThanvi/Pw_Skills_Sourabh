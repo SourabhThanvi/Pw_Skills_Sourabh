{
  "nbformat": 4,
  "nbformat_minor": 0,
  "metadata": {
    "colab": {
      "provenance": [],
      "authorship_tag": "ABX9TyMQC0Y3V6AcGDIzkhnYEvO3",
      "include_colab_link": true
    },
    "kernelspec": {
      "name": "python3",
      "display_name": "Python 3"
    },
    "language_info": {
      "name": "python"
    }
  },
  "cells": [
    {
      "cell_type": "markdown",
      "metadata": {
        "id": "view-in-github",
        "colab_type": "text"
      },
      "source": [
        "<a href=\"https://colab.research.google.com/github/SourabhThanvi/Pw_Skills_Sourabh/blob/main/File_Exceptional_Handling_Assignment.ipynb\" target=\"_parent\"><img src=\"https://colab.research.google.com/assets/colab-badge.svg\" alt=\"Open In Colab\"/></a>"
      ]
    },
    {
      "cell_type": "markdown",
      "source": [
        "## 4. Write a Python program using multithreading where one thread adds numbers to a list, and another thread removes numbers from the list. Implement a mechanism to avoid race conditions using threading.Lock."
      ],
      "metadata": {
        "id": "29VQHT6A7rwh"
      }
    },
    {
      "cell_type": "code",
      "execution_count": 3,
      "metadata": {
        "id": "CmmMpd0c7ZDF"
      },
      "outputs": [],
      "source": [
        "import threading\n",
        "import time\n",
        "\n",
        "shared_list = []\n",
        "\n",
        "lock = threading.Lock()"
      ]
    },
    {
      "cell_type": "code",
      "source": [
        "def add_to_list():\n",
        "    for i in range(1, 11):\n",
        "        time.sleep(0.1)\n",
        "        with lock:\n",
        "            shared_list.append(i)\n",
        "            print(f\"Added: {i}, List: {shared_list}\")\n",
        "\n",
        "def remove_from_list():\n",
        "    for _ in range(1, 11):\n",
        "        time.sleep(0.15)\n",
        "        with lock:\n",
        "            if shared_list:\n",
        "                removed = shared_list.pop(0)\n",
        "                print(f\"Removed: {removed}, List: {shared_list}\")\n",
        "            else:\n",
        "                print(\"List is empty, waiting to remove...\")\n"
      ],
      "metadata": {
        "id": "-E0qJf0z78oG"
      },
      "execution_count": 4,
      "outputs": []
    },
    {
      "cell_type": "code",
      "source": [
        "thread1 = threading.Thread(target=add_to_list)\n",
        "thread2 = threading.Thread(target=remove_from_list)\n",
        "\n",
        "thread1.start()\n",
        "thread2.start()\n",
        "\n",
        "thread1.join()\n",
        "thread2.join()\n",
        "\n",
        "print(\"Final List:\", shared_list)\n"
      ],
      "metadata": {
        "colab": {
          "base_uri": "https://localhost:8080/"
        },
        "id": "pcKHKNGt8LFC",
        "outputId": "4c07784a-0124-4274-b58e-2c0cae556471"
      },
      "execution_count": 5,
      "outputs": [
        {
          "output_type": "stream",
          "name": "stdout",
          "text": [
            "Added: 1, List: [1]\n",
            "Removed: 1, List: []\n",
            "Added: 2, List: [2]\n",
            "Added: 3, List: [2, 3]\n",
            "Removed: 2, List: [3]\n",
            "Added: 4, List: [3, 4]\n",
            "Removed: 3, List: [4]\n",
            "Added: 5, List: [4, 5]\n",
            "Added: 6, List: [4, 5, 6]\n",
            "Removed: 4, List: [5, 6]\n",
            "Added: 7, List: [5, 6, 7]\n",
            "Removed: 5, List: [6, 7]\n",
            "Added: 8, List: [6, 7, 8]\n",
            "Added: 9, List: [6, 7, 8, 9]\n",
            "Removed: 6, List: [7, 8, 9]\n",
            "Added: 10, List: [7, 8, 9, 10]\n",
            "Removed: 7, List: [8, 9, 10]\n",
            "Removed: 8, List: [9, 10]\n",
            "Removed: 9, List: [10]\n",
            "Removed: 10, List: []\n",
            "Final List: []\n"
          ]
        }
      ]
    },
    {
      "cell_type": "markdown",
      "source": [
        "## 7. Create a program that uses a thread pool to calculate the factorial of numbers from 1 to 10 concurrently. Use concurrent.futures.ThreadPoolExecutor to manage the threads."
      ],
      "metadata": {
        "id": "pVKOODzn-Tgo"
      }
    },
    {
      "cell_type": "code",
      "source": [
        "from concurrent.futures import ThreadPoolExecutor\n",
        "\n",
        "def factorial(n):\n",
        "    result = 1\n",
        "    for i in range(1, n + 1):\n",
        "        result *= i\n",
        "    return f\"Factorial of {n} is {result}\"\n",
        "\n",
        "with ThreadPoolExecutor() as executor:\n",
        "    results = executor.map(factorial, range(1, 11))\n",
        "\n",
        "for result in results:\n",
        "    print(result)\n"
      ],
      "metadata": {
        "colab": {
          "base_uri": "https://localhost:8080/"
        },
        "id": "7xoJs2RQ-Utz",
        "outputId": "e8cdecdb-4a9b-4a18-fce3-b29abc252a8c"
      },
      "execution_count": 6,
      "outputs": [
        {
          "output_type": "stream",
          "name": "stdout",
          "text": [
            "Factorial of 1 is 1\n",
            "Factorial of 2 is 2\n",
            "Factorial of 3 is 6\n",
            "Factorial of 4 is 24\n",
            "Factorial of 5 is 120\n",
            "Factorial of 6 is 720\n",
            "Factorial of 7 is 5040\n",
            "Factorial of 8 is 40320\n",
            "Factorial of 9 is 362880\n",
            "Factorial of 10 is 3628800\n"
          ]
        }
      ]
    },
    {
      "cell_type": "markdown",
      "source": [
        "## 8. Create a Python program that uses multiprocessing.Pool to compute the square of numbers from 1 to 10 in parallel. Measure the time taken to perform this computation using a pool of different sizes (e.g., 2, 4, 8 processes)."
      ],
      "metadata": {
        "id": "AEXXWfI4-jGi"
      }
    },
    {
      "cell_type": "code",
      "source": [
        "from multiprocessing import Pool\n",
        "import time\n",
        "\n",
        "def square(n):\n",
        "    return n * n"
      ],
      "metadata": {
        "id": "YKlKto0I-U7D"
      },
      "execution_count": 7,
      "outputs": []
    },
    {
      "cell_type": "code",
      "source": [
        "def measure_time(pool_size):\n",
        "    with Pool(pool_size) as pool:\n",
        "        start_time = time.time()\n",
        "        results = pool.map(square, range(1, 11))\n",
        "        elapsed_time = time.time() - start_time\n",
        "    return pool_size, elapsed_time, results\n"
      ],
      "metadata": {
        "id": "QKYayzwT-u35"
      },
      "execution_count": 8,
      "outputs": []
    },
    {
      "cell_type": "code",
      "source": [
        "pool_sizes = [2, 4, 8]\n",
        "performance = [measure_time(size) for size in pool_sizes]\n",
        "\n",
        "for size, elapsed, results in performance:\n",
        "    print(f\"Pool Size: {size}, Time Taken: {elapsed:.5f} seconds, Results: {results}\")\n"
      ],
      "metadata": {
        "colab": {
          "base_uri": "https://localhost:8080/"
        },
        "id": "WpkrHy92-vAl",
        "outputId": "39578683-2864-498c-f797-5649b97f2be3"
      },
      "execution_count": 9,
      "outputs": [
        {
          "output_type": "stream",
          "name": "stdout",
          "text": [
            "Pool Size: 2, Time Taken: 0.00144 seconds, Results: [1, 4, 9, 16, 25, 36, 49, 64, 81, 100]\n",
            "Pool Size: 4, Time Taken: 0.00196 seconds, Results: [1, 4, 9, 16, 25, 36, 49, 64, 81, 100]\n",
            "Pool Size: 8, Time Taken: 0.00390 seconds, Results: [1, 4, 9, 16, 25, 36, 49, 64, 81, 100]\n"
          ]
        }
      ]
    },
    {
      "cell_type": "code",
      "source": [],
      "metadata": {
        "id": "jR8dlqLE-y3x"
      },
      "execution_count": null,
      "outputs": []
    }
  ]
}