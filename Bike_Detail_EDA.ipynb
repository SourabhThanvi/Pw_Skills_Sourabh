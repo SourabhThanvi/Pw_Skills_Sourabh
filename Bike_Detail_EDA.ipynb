{
  "nbformat": 4,
  "nbformat_minor": 0,
  "metadata": {
    "colab": {
      "provenance": [],
      "authorship_tag": "ABX9TyOIGDrX7S7JW6iU51yceak+",
      "include_colab_link": true
    },
    "kernelspec": {
      "name": "python3",
      "display_name": "Python 3"
    },
    "language_info": {
      "name": "python"
    }
  },
  "cells": [
    {
      "cell_type": "markdown",
      "metadata": {
        "id": "view-in-github",
        "colab_type": "text"
      },
      "source": [
        "<a href=\"https://colab.research.google.com/github/SourabhThanvi/Pw_Skills_Sourabh/blob/main/Bike_Detail_EDA.ipynb\" target=\"_parent\"><img src=\"https://colab.research.google.com/assets/colab-badge.svg\" alt=\"Open In Colab\"/></a>"
      ]
    },
    {
      "cell_type": "code",
      "execution_count": null,
      "metadata": {
        "id": "f91e_8V0uqlp"
      },
      "outputs": [],
      "source": [
        "import pandas as pd\n",
        "import numpy as np\n",
        "import matplotlib.pyplot as plt\n",
        "import seaborn as sns\n",
        "import plotly.express as px"
      ]
    },
    {
      "cell_type": "code",
      "source": [
        "pd.set_option('display.max_columns', None)\n",
        "\n",
        "df = pd.read_csv('/content/BIKE DETAILS.csv')"
      ],
      "metadata": {
        "id": "AiHzLj5A4WKm"
      },
      "execution_count": null,
      "outputs": []
    },
    {
      "cell_type": "code",
      "source": [
        "df.sample(5)"
      ],
      "metadata": {
        "colab": {
          "base_uri": "https://localhost:8080/",
          "height": 206
        },
        "id": "LrKeW6ou4tkG",
        "outputId": "027bb94b-15cb-4d5e-dd07-a48163cf0f96"
      },
      "execution_count": null,
      "outputs": [
        {
          "output_type": "execute_result",
          "data": {
            "text/plain": [
              "                                   name  selling_price  year seller_type  \\\n",
              "780                      TVS Victor GLX          27000  2002  Individual   \n",
              "104  Royal Enfield Classic Desert Storm         150000  2017  Individual   \n",
              "244                   Hero Maestro Edge          40000  2017  Individual   \n",
              "825       Royal Enfield Thunderbird 350         100000  2012  Individual   \n",
              "511                  Hero Splendor Plus          12000  2007  Individual   \n",
              "\n",
              "         owner  km_driven  ex_showroom_price  \n",
              "780  1st owner      49000                NaN  \n",
              "104  1st owner      16500           181445.0  \n",
              "244  1st owner      15000            55980.0  \n",
              "825  1st owner      28000                NaN  \n",
              "511  1st owner     100000                NaN  "
            ],
            "text/html": [
              "\n",
              "  <div id=\"df-e4a5cee3-0553-4192-8dc0-55e0267f6b84\" class=\"colab-df-container\">\n",
              "    <div>\n",
              "<style scoped>\n",
              "    .dataframe tbody tr th:only-of-type {\n",
              "        vertical-align: middle;\n",
              "    }\n",
              "\n",
              "    .dataframe tbody tr th {\n",
              "        vertical-align: top;\n",
              "    }\n",
              "\n",
              "    .dataframe thead th {\n",
              "        text-align: right;\n",
              "    }\n",
              "</style>\n",
              "<table border=\"1\" class=\"dataframe\">\n",
              "  <thead>\n",
              "    <tr style=\"text-align: right;\">\n",
              "      <th></th>\n",
              "      <th>name</th>\n",
              "      <th>selling_price</th>\n",
              "      <th>year</th>\n",
              "      <th>seller_type</th>\n",
              "      <th>owner</th>\n",
              "      <th>km_driven</th>\n",
              "      <th>ex_showroom_price</th>\n",
              "    </tr>\n",
              "  </thead>\n",
              "  <tbody>\n",
              "    <tr>\n",
              "      <th>780</th>\n",
              "      <td>TVS Victor GLX</td>\n",
              "      <td>27000</td>\n",
              "      <td>2002</td>\n",
              "      <td>Individual</td>\n",
              "      <td>1st owner</td>\n",
              "      <td>49000</td>\n",
              "      <td>NaN</td>\n",
              "    </tr>\n",
              "    <tr>\n",
              "      <th>104</th>\n",
              "      <td>Royal Enfield Classic Desert Storm</td>\n",
              "      <td>150000</td>\n",
              "      <td>2017</td>\n",
              "      <td>Individual</td>\n",
              "      <td>1st owner</td>\n",
              "      <td>16500</td>\n",
              "      <td>181445.0</td>\n",
              "    </tr>\n",
              "    <tr>\n",
              "      <th>244</th>\n",
              "      <td>Hero Maestro Edge</td>\n",
              "      <td>40000</td>\n",
              "      <td>2017</td>\n",
              "      <td>Individual</td>\n",
              "      <td>1st owner</td>\n",
              "      <td>15000</td>\n",
              "      <td>55980.0</td>\n",
              "    </tr>\n",
              "    <tr>\n",
              "      <th>825</th>\n",
              "      <td>Royal Enfield Thunderbird 350</td>\n",
              "      <td>100000</td>\n",
              "      <td>2012</td>\n",
              "      <td>Individual</td>\n",
              "      <td>1st owner</td>\n",
              "      <td>28000</td>\n",
              "      <td>NaN</td>\n",
              "    </tr>\n",
              "    <tr>\n",
              "      <th>511</th>\n",
              "      <td>Hero Splendor Plus</td>\n",
              "      <td>12000</td>\n",
              "      <td>2007</td>\n",
              "      <td>Individual</td>\n",
              "      <td>1st owner</td>\n",
              "      <td>100000</td>\n",
              "      <td>NaN</td>\n",
              "    </tr>\n",
              "  </tbody>\n",
              "</table>\n",
              "</div>\n",
              "    <div class=\"colab-df-buttons\">\n",
              "\n",
              "  <div class=\"colab-df-container\">\n",
              "    <button class=\"colab-df-convert\" onclick=\"convertToInteractive('df-e4a5cee3-0553-4192-8dc0-55e0267f6b84')\"\n",
              "            title=\"Convert this dataframe to an interactive table.\"\n",
              "            style=\"display:none;\">\n",
              "\n",
              "  <svg xmlns=\"http://www.w3.org/2000/svg\" height=\"24px\" viewBox=\"0 -960 960 960\">\n",
              "    <path d=\"M120-120v-720h720v720H120Zm60-500h600v-160H180v160Zm220 220h160v-160H400v160Zm0 220h160v-160H400v160ZM180-400h160v-160H180v160Zm440 0h160v-160H620v160ZM180-180h160v-160H180v160Zm440 0h160v-160H620v160Z\"/>\n",
              "  </svg>\n",
              "    </button>\n",
              "\n",
              "  <style>\n",
              "    .colab-df-container {\n",
              "      display:flex;\n",
              "      gap: 12px;\n",
              "    }\n",
              "\n",
              "    .colab-df-convert {\n",
              "      background-color: #E8F0FE;\n",
              "      border: none;\n",
              "      border-radius: 50%;\n",
              "      cursor: pointer;\n",
              "      display: none;\n",
              "      fill: #1967D2;\n",
              "      height: 32px;\n",
              "      padding: 0 0 0 0;\n",
              "      width: 32px;\n",
              "    }\n",
              "\n",
              "    .colab-df-convert:hover {\n",
              "      background-color: #E2EBFA;\n",
              "      box-shadow: 0px 1px 2px rgba(60, 64, 67, 0.3), 0px 1px 3px 1px rgba(60, 64, 67, 0.15);\n",
              "      fill: #174EA6;\n",
              "    }\n",
              "\n",
              "    .colab-df-buttons div {\n",
              "      margin-bottom: 4px;\n",
              "    }\n",
              "\n",
              "    [theme=dark] .colab-df-convert {\n",
              "      background-color: #3B4455;\n",
              "      fill: #D2E3FC;\n",
              "    }\n",
              "\n",
              "    [theme=dark] .colab-df-convert:hover {\n",
              "      background-color: #434B5C;\n",
              "      box-shadow: 0px 1px 3px 1px rgba(0, 0, 0, 0.15);\n",
              "      filter: drop-shadow(0px 1px 2px rgba(0, 0, 0, 0.3));\n",
              "      fill: #FFFFFF;\n",
              "    }\n",
              "  </style>\n",
              "\n",
              "    <script>\n",
              "      const buttonEl =\n",
              "        document.querySelector('#df-e4a5cee3-0553-4192-8dc0-55e0267f6b84 button.colab-df-convert');\n",
              "      buttonEl.style.display =\n",
              "        google.colab.kernel.accessAllowed ? 'block' : 'none';\n",
              "\n",
              "      async function convertToInteractive(key) {\n",
              "        const element = document.querySelector('#df-e4a5cee3-0553-4192-8dc0-55e0267f6b84');\n",
              "        const dataTable =\n",
              "          await google.colab.kernel.invokeFunction('convertToInteractive',\n",
              "                                                    [key], {});\n",
              "        if (!dataTable) return;\n",
              "\n",
              "        const docLinkHtml = 'Like what you see? Visit the ' +\n",
              "          '<a target=\"_blank\" href=https://colab.research.google.com/notebooks/data_table.ipynb>data table notebook</a>'\n",
              "          + ' to learn more about interactive tables.';\n",
              "        element.innerHTML = '';\n",
              "        dataTable['output_type'] = 'display_data';\n",
              "        await google.colab.output.renderOutput(dataTable, element);\n",
              "        const docLink = document.createElement('div');\n",
              "        docLink.innerHTML = docLinkHtml;\n",
              "        element.appendChild(docLink);\n",
              "      }\n",
              "    </script>\n",
              "  </div>\n",
              "\n",
              "\n",
              "<div id=\"df-19786d27-f4a2-4580-a18a-41aafa893a3d\">\n",
              "  <button class=\"colab-df-quickchart\" onclick=\"quickchart('df-19786d27-f4a2-4580-a18a-41aafa893a3d')\"\n",
              "            title=\"Suggest charts\"\n",
              "            style=\"display:none;\">\n",
              "\n",
              "<svg xmlns=\"http://www.w3.org/2000/svg\" height=\"24px\"viewBox=\"0 0 24 24\"\n",
              "     width=\"24px\">\n",
              "    <g>\n",
              "        <path d=\"M19 3H5c-1.1 0-2 .9-2 2v14c0 1.1.9 2 2 2h14c1.1 0 2-.9 2-2V5c0-1.1-.9-2-2-2zM9 17H7v-7h2v7zm4 0h-2V7h2v10zm4 0h-2v-4h2v4z\"/>\n",
              "    </g>\n",
              "</svg>\n",
              "  </button>\n",
              "\n",
              "<style>\n",
              "  .colab-df-quickchart {\n",
              "      --bg-color: #E8F0FE;\n",
              "      --fill-color: #1967D2;\n",
              "      --hover-bg-color: #E2EBFA;\n",
              "      --hover-fill-color: #174EA6;\n",
              "      --disabled-fill-color: #AAA;\n",
              "      --disabled-bg-color: #DDD;\n",
              "  }\n",
              "\n",
              "  [theme=dark] .colab-df-quickchart {\n",
              "      --bg-color: #3B4455;\n",
              "      --fill-color: #D2E3FC;\n",
              "      --hover-bg-color: #434B5C;\n",
              "      --hover-fill-color: #FFFFFF;\n",
              "      --disabled-bg-color: #3B4455;\n",
              "      --disabled-fill-color: #666;\n",
              "  }\n",
              "\n",
              "  .colab-df-quickchart {\n",
              "    background-color: var(--bg-color);\n",
              "    border: none;\n",
              "    border-radius: 50%;\n",
              "    cursor: pointer;\n",
              "    display: none;\n",
              "    fill: var(--fill-color);\n",
              "    height: 32px;\n",
              "    padding: 0;\n",
              "    width: 32px;\n",
              "  }\n",
              "\n",
              "  .colab-df-quickchart:hover {\n",
              "    background-color: var(--hover-bg-color);\n",
              "    box-shadow: 0 1px 2px rgba(60, 64, 67, 0.3), 0 1px 3px 1px rgba(60, 64, 67, 0.15);\n",
              "    fill: var(--button-hover-fill-color);\n",
              "  }\n",
              "\n",
              "  .colab-df-quickchart-complete:disabled,\n",
              "  .colab-df-quickchart-complete:disabled:hover {\n",
              "    background-color: var(--disabled-bg-color);\n",
              "    fill: var(--disabled-fill-color);\n",
              "    box-shadow: none;\n",
              "  }\n",
              "\n",
              "  .colab-df-spinner {\n",
              "    border: 2px solid var(--fill-color);\n",
              "    border-color: transparent;\n",
              "    border-bottom-color: var(--fill-color);\n",
              "    animation:\n",
              "      spin 1s steps(1) infinite;\n",
              "  }\n",
              "\n",
              "  @keyframes spin {\n",
              "    0% {\n",
              "      border-color: transparent;\n",
              "      border-bottom-color: var(--fill-color);\n",
              "      border-left-color: var(--fill-color);\n",
              "    }\n",
              "    20% {\n",
              "      border-color: transparent;\n",
              "      border-left-color: var(--fill-color);\n",
              "      border-top-color: var(--fill-color);\n",
              "    }\n",
              "    30% {\n",
              "      border-color: transparent;\n",
              "      border-left-color: var(--fill-color);\n",
              "      border-top-color: var(--fill-color);\n",
              "      border-right-color: var(--fill-color);\n",
              "    }\n",
              "    40% {\n",
              "      border-color: transparent;\n",
              "      border-right-color: var(--fill-color);\n",
              "      border-top-color: var(--fill-color);\n",
              "    }\n",
              "    60% {\n",
              "      border-color: transparent;\n",
              "      border-right-color: var(--fill-color);\n",
              "    }\n",
              "    80% {\n",
              "      border-color: transparent;\n",
              "      border-right-color: var(--fill-color);\n",
              "      border-bottom-color: var(--fill-color);\n",
              "    }\n",
              "    90% {\n",
              "      border-color: transparent;\n",
              "      border-bottom-color: var(--fill-color);\n",
              "    }\n",
              "  }\n",
              "</style>\n",
              "\n",
              "  <script>\n",
              "    async function quickchart(key) {\n",
              "      const quickchartButtonEl =\n",
              "        document.querySelector('#' + key + ' button');\n",
              "      quickchartButtonEl.disabled = true;  // To prevent multiple clicks.\n",
              "      quickchartButtonEl.classList.add('colab-df-spinner');\n",
              "      try {\n",
              "        const charts = await google.colab.kernel.invokeFunction(\n",
              "            'suggestCharts', [key], {});\n",
              "      } catch (error) {\n",
              "        console.error('Error during call to suggestCharts:', error);\n",
              "      }\n",
              "      quickchartButtonEl.classList.remove('colab-df-spinner');\n",
              "      quickchartButtonEl.classList.add('colab-df-quickchart-complete');\n",
              "    }\n",
              "    (() => {\n",
              "      let quickchartButtonEl =\n",
              "        document.querySelector('#df-19786d27-f4a2-4580-a18a-41aafa893a3d button');\n",
              "      quickchartButtonEl.style.display =\n",
              "        google.colab.kernel.accessAllowed ? 'block' : 'none';\n",
              "    })();\n",
              "  </script>\n",
              "</div>\n",
              "\n",
              "    </div>\n",
              "  </div>\n"
            ],
            "application/vnd.google.colaboratory.intrinsic+json": {
              "type": "dataframe",
              "summary": "{\n  \"name\": \"df\",\n  \"rows\": 5,\n  \"fields\": [\n    {\n      \"column\": \"name\",\n      \"properties\": {\n        \"dtype\": \"string\",\n        \"num_unique_values\": 5,\n        \"samples\": [\n          \"Royal Enfield Classic Desert Storm\",\n          \"Hero Splendor Plus\",\n          \"Hero Maestro Edge\"\n        ],\n        \"semantic_type\": \"\",\n        \"description\": \"\"\n      }\n    },\n    {\n      \"column\": \"selling_price\",\n      \"properties\": {\n        \"dtype\": \"number\",\n        \"std\": 57716,\n        \"min\": 12000,\n        \"max\": 150000,\n        \"num_unique_values\": 5,\n        \"samples\": [\n          150000,\n          12000,\n          40000\n        ],\n        \"semantic_type\": \"\",\n        \"description\": \"\"\n      }\n    },\n    {\n      \"column\": \"year\",\n      \"properties\": {\n        \"dtype\": \"number\",\n        \"std\": 6,\n        \"min\": 2002,\n        \"max\": 2017,\n        \"num_unique_values\": 4,\n        \"samples\": [\n          2017,\n          2007,\n          2002\n        ],\n        \"semantic_type\": \"\",\n        \"description\": \"\"\n      }\n    },\n    {\n      \"column\": \"seller_type\",\n      \"properties\": {\n        \"dtype\": \"category\",\n        \"num_unique_values\": 1,\n        \"samples\": [\n          \"Individual\"\n        ],\n        \"semantic_type\": \"\",\n        \"description\": \"\"\n      }\n    },\n    {\n      \"column\": \"owner\",\n      \"properties\": {\n        \"dtype\": \"category\",\n        \"num_unique_values\": 1,\n        \"samples\": [\n          \"1st owner\"\n        ],\n        \"semantic_type\": \"\",\n        \"description\": \"\"\n      }\n    },\n    {\n      \"column\": \"km_driven\",\n      \"properties\": {\n        \"dtype\": \"number\",\n        \"std\": 35312,\n        \"min\": 15000,\n        \"max\": 100000,\n        \"num_unique_values\": 5,\n        \"samples\": [\n          16500\n        ],\n        \"semantic_type\": \"\",\n        \"description\": \"\"\n      }\n    },\n    {\n      \"column\": \"ex_showroom_price\",\n      \"properties\": {\n        \"dtype\": \"number\",\n        \"std\": 88717.15230157018,\n        \"min\": 55980.0,\n        \"max\": 181445.0,\n        \"num_unique_values\": 2,\n        \"samples\": [\n          55980.0\n        ],\n        \"semantic_type\": \"\",\n        \"description\": \"\"\n      }\n    }\n  ]\n}"
            }
          },
          "metadata": {},
          "execution_count": 3
        }
      ]
    },
    {
      "cell_type": "code",
      "source": [
        "df_bike = df.copy()"
      ],
      "metadata": {
        "id": "9tbLdDBc4xFw"
      },
      "execution_count": null,
      "outputs": []
    },
    {
      "cell_type": "code",
      "source": [
        "df_bike.info()"
      ],
      "metadata": {
        "colab": {
          "base_uri": "https://localhost:8080/"
        },
        "id": "_n4ol4tA5Ajr",
        "outputId": "9368a927-6492-4378-ef43-77a1f7fced23"
      },
      "execution_count": null,
      "outputs": [
        {
          "output_type": "stream",
          "name": "stdout",
          "text": [
            "<class 'pandas.core.frame.DataFrame'>\n",
            "RangeIndex: 1061 entries, 0 to 1060\n",
            "Data columns (total 7 columns):\n",
            " #   Column             Non-Null Count  Dtype  \n",
            "---  ------             --------------  -----  \n",
            " 0   name               1061 non-null   object \n",
            " 1   selling_price      1061 non-null   int64  \n",
            " 2   year               1061 non-null   int64  \n",
            " 3   seller_type        1061 non-null   object \n",
            " 4   owner              1061 non-null   object \n",
            " 5   km_driven          1061 non-null   int64  \n",
            " 6   ex_showroom_price  626 non-null    float64\n",
            "dtypes: float64(1), int64(3), object(3)\n",
            "memory usage: 58.1+ KB\n"
          ]
        }
      ]
    },
    {
      "cell_type": "code",
      "source": [
        "df_bike.describe()"
      ],
      "metadata": {
        "colab": {
          "base_uri": "https://localhost:8080/",
          "height": 300
        },
        "id": "39oY_vR15B8x",
        "outputId": "40215bc1-f224-474c-934a-0569f868cc79"
      },
      "execution_count": null,
      "outputs": [
        {
          "output_type": "execute_result",
          "data": {
            "text/plain": [
              "       selling_price         year      km_driven  ex_showroom_price\n",
              "count    1061.000000  1061.000000    1061.000000       6.260000e+02\n",
              "mean    59638.151744  2013.867107   34359.833176       8.795871e+04\n",
              "std     56304.291973     4.301191   51623.152702       7.749659e+04\n",
              "min      5000.000000  1988.000000     350.000000       3.049000e+04\n",
              "25%     28000.000000  2011.000000   13500.000000       5.485200e+04\n",
              "50%     45000.000000  2015.000000   25000.000000       7.275250e+04\n",
              "75%     70000.000000  2017.000000   43000.000000       8.703150e+04\n",
              "max    760000.000000  2020.000000  880000.000000       1.278000e+06"
            ],
            "text/html": [
              "\n",
              "  <div id=\"df-7ff0818d-f723-44f8-8ec4-98c400a14b17\" class=\"colab-df-container\">\n",
              "    <div>\n",
              "<style scoped>\n",
              "    .dataframe tbody tr th:only-of-type {\n",
              "        vertical-align: middle;\n",
              "    }\n",
              "\n",
              "    .dataframe tbody tr th {\n",
              "        vertical-align: top;\n",
              "    }\n",
              "\n",
              "    .dataframe thead th {\n",
              "        text-align: right;\n",
              "    }\n",
              "</style>\n",
              "<table border=\"1\" class=\"dataframe\">\n",
              "  <thead>\n",
              "    <tr style=\"text-align: right;\">\n",
              "      <th></th>\n",
              "      <th>selling_price</th>\n",
              "      <th>year</th>\n",
              "      <th>km_driven</th>\n",
              "      <th>ex_showroom_price</th>\n",
              "    </tr>\n",
              "  </thead>\n",
              "  <tbody>\n",
              "    <tr>\n",
              "      <th>count</th>\n",
              "      <td>1061.000000</td>\n",
              "      <td>1061.000000</td>\n",
              "      <td>1061.000000</td>\n",
              "      <td>6.260000e+02</td>\n",
              "    </tr>\n",
              "    <tr>\n",
              "      <th>mean</th>\n",
              "      <td>59638.151744</td>\n",
              "      <td>2013.867107</td>\n",
              "      <td>34359.833176</td>\n",
              "      <td>8.795871e+04</td>\n",
              "    </tr>\n",
              "    <tr>\n",
              "      <th>std</th>\n",
              "      <td>56304.291973</td>\n",
              "      <td>4.301191</td>\n",
              "      <td>51623.152702</td>\n",
              "      <td>7.749659e+04</td>\n",
              "    </tr>\n",
              "    <tr>\n",
              "      <th>min</th>\n",
              "      <td>5000.000000</td>\n",
              "      <td>1988.000000</td>\n",
              "      <td>350.000000</td>\n",
              "      <td>3.049000e+04</td>\n",
              "    </tr>\n",
              "    <tr>\n",
              "      <th>25%</th>\n",
              "      <td>28000.000000</td>\n",
              "      <td>2011.000000</td>\n",
              "      <td>13500.000000</td>\n",
              "      <td>5.485200e+04</td>\n",
              "    </tr>\n",
              "    <tr>\n",
              "      <th>50%</th>\n",
              "      <td>45000.000000</td>\n",
              "      <td>2015.000000</td>\n",
              "      <td>25000.000000</td>\n",
              "      <td>7.275250e+04</td>\n",
              "    </tr>\n",
              "    <tr>\n",
              "      <th>75%</th>\n",
              "      <td>70000.000000</td>\n",
              "      <td>2017.000000</td>\n",
              "      <td>43000.000000</td>\n",
              "      <td>8.703150e+04</td>\n",
              "    </tr>\n",
              "    <tr>\n",
              "      <th>max</th>\n",
              "      <td>760000.000000</td>\n",
              "      <td>2020.000000</td>\n",
              "      <td>880000.000000</td>\n",
              "      <td>1.278000e+06</td>\n",
              "    </tr>\n",
              "  </tbody>\n",
              "</table>\n",
              "</div>\n",
              "    <div class=\"colab-df-buttons\">\n",
              "\n",
              "  <div class=\"colab-df-container\">\n",
              "    <button class=\"colab-df-convert\" onclick=\"convertToInteractive('df-7ff0818d-f723-44f8-8ec4-98c400a14b17')\"\n",
              "            title=\"Convert this dataframe to an interactive table.\"\n",
              "            style=\"display:none;\">\n",
              "\n",
              "  <svg xmlns=\"http://www.w3.org/2000/svg\" height=\"24px\" viewBox=\"0 -960 960 960\">\n",
              "    <path d=\"M120-120v-720h720v720H120Zm60-500h600v-160H180v160Zm220 220h160v-160H400v160Zm0 220h160v-160H400v160ZM180-400h160v-160H180v160Zm440 0h160v-160H620v160ZM180-180h160v-160H180v160Zm440 0h160v-160H620v160Z\"/>\n",
              "  </svg>\n",
              "    </button>\n",
              "\n",
              "  <style>\n",
              "    .colab-df-container {\n",
              "      display:flex;\n",
              "      gap: 12px;\n",
              "    }\n",
              "\n",
              "    .colab-df-convert {\n",
              "      background-color: #E8F0FE;\n",
              "      border: none;\n",
              "      border-radius: 50%;\n",
              "      cursor: pointer;\n",
              "      display: none;\n",
              "      fill: #1967D2;\n",
              "      height: 32px;\n",
              "      padding: 0 0 0 0;\n",
              "      width: 32px;\n",
              "    }\n",
              "\n",
              "    .colab-df-convert:hover {\n",
              "      background-color: #E2EBFA;\n",
              "      box-shadow: 0px 1px 2px rgba(60, 64, 67, 0.3), 0px 1px 3px 1px rgba(60, 64, 67, 0.15);\n",
              "      fill: #174EA6;\n",
              "    }\n",
              "\n",
              "    .colab-df-buttons div {\n",
              "      margin-bottom: 4px;\n",
              "    }\n",
              "\n",
              "    [theme=dark] .colab-df-convert {\n",
              "      background-color: #3B4455;\n",
              "      fill: #D2E3FC;\n",
              "    }\n",
              "\n",
              "    [theme=dark] .colab-df-convert:hover {\n",
              "      background-color: #434B5C;\n",
              "      box-shadow: 0px 1px 3px 1px rgba(0, 0, 0, 0.15);\n",
              "      filter: drop-shadow(0px 1px 2px rgba(0, 0, 0, 0.3));\n",
              "      fill: #FFFFFF;\n",
              "    }\n",
              "  </style>\n",
              "\n",
              "    <script>\n",
              "      const buttonEl =\n",
              "        document.querySelector('#df-7ff0818d-f723-44f8-8ec4-98c400a14b17 button.colab-df-convert');\n",
              "      buttonEl.style.display =\n",
              "        google.colab.kernel.accessAllowed ? 'block' : 'none';\n",
              "\n",
              "      async function convertToInteractive(key) {\n",
              "        const element = document.querySelector('#df-7ff0818d-f723-44f8-8ec4-98c400a14b17');\n",
              "        const dataTable =\n",
              "          await google.colab.kernel.invokeFunction('convertToInteractive',\n",
              "                                                    [key], {});\n",
              "        if (!dataTable) return;\n",
              "\n",
              "        const docLinkHtml = 'Like what you see? Visit the ' +\n",
              "          '<a target=\"_blank\" href=https://colab.research.google.com/notebooks/data_table.ipynb>data table notebook</a>'\n",
              "          + ' to learn more about interactive tables.';\n",
              "        element.innerHTML = '';\n",
              "        dataTable['output_type'] = 'display_data';\n",
              "        await google.colab.output.renderOutput(dataTable, element);\n",
              "        const docLink = document.createElement('div');\n",
              "        docLink.innerHTML = docLinkHtml;\n",
              "        element.appendChild(docLink);\n",
              "      }\n",
              "    </script>\n",
              "  </div>\n",
              "\n",
              "\n",
              "<div id=\"df-882bea8f-1d01-4962-acce-a0ea97dcf8f0\">\n",
              "  <button class=\"colab-df-quickchart\" onclick=\"quickchart('df-882bea8f-1d01-4962-acce-a0ea97dcf8f0')\"\n",
              "            title=\"Suggest charts\"\n",
              "            style=\"display:none;\">\n",
              "\n",
              "<svg xmlns=\"http://www.w3.org/2000/svg\" height=\"24px\"viewBox=\"0 0 24 24\"\n",
              "     width=\"24px\">\n",
              "    <g>\n",
              "        <path d=\"M19 3H5c-1.1 0-2 .9-2 2v14c0 1.1.9 2 2 2h14c1.1 0 2-.9 2-2V5c0-1.1-.9-2-2-2zM9 17H7v-7h2v7zm4 0h-2V7h2v10zm4 0h-2v-4h2v4z\"/>\n",
              "    </g>\n",
              "</svg>\n",
              "  </button>\n",
              "\n",
              "<style>\n",
              "  .colab-df-quickchart {\n",
              "      --bg-color: #E8F0FE;\n",
              "      --fill-color: #1967D2;\n",
              "      --hover-bg-color: #E2EBFA;\n",
              "      --hover-fill-color: #174EA6;\n",
              "      --disabled-fill-color: #AAA;\n",
              "      --disabled-bg-color: #DDD;\n",
              "  }\n",
              "\n",
              "  [theme=dark] .colab-df-quickchart {\n",
              "      --bg-color: #3B4455;\n",
              "      --fill-color: #D2E3FC;\n",
              "      --hover-bg-color: #434B5C;\n",
              "      --hover-fill-color: #FFFFFF;\n",
              "      --disabled-bg-color: #3B4455;\n",
              "      --disabled-fill-color: #666;\n",
              "  }\n",
              "\n",
              "  .colab-df-quickchart {\n",
              "    background-color: var(--bg-color);\n",
              "    border: none;\n",
              "    border-radius: 50%;\n",
              "    cursor: pointer;\n",
              "    display: none;\n",
              "    fill: var(--fill-color);\n",
              "    height: 32px;\n",
              "    padding: 0;\n",
              "    width: 32px;\n",
              "  }\n",
              "\n",
              "  .colab-df-quickchart:hover {\n",
              "    background-color: var(--hover-bg-color);\n",
              "    box-shadow: 0 1px 2px rgba(60, 64, 67, 0.3), 0 1px 3px 1px rgba(60, 64, 67, 0.15);\n",
              "    fill: var(--button-hover-fill-color);\n",
              "  }\n",
              "\n",
              "  .colab-df-quickchart-complete:disabled,\n",
              "  .colab-df-quickchart-complete:disabled:hover {\n",
              "    background-color: var(--disabled-bg-color);\n",
              "    fill: var(--disabled-fill-color);\n",
              "    box-shadow: none;\n",
              "  }\n",
              "\n",
              "  .colab-df-spinner {\n",
              "    border: 2px solid var(--fill-color);\n",
              "    border-color: transparent;\n",
              "    border-bottom-color: var(--fill-color);\n",
              "    animation:\n",
              "      spin 1s steps(1) infinite;\n",
              "  }\n",
              "\n",
              "  @keyframes spin {\n",
              "    0% {\n",
              "      border-color: transparent;\n",
              "      border-bottom-color: var(--fill-color);\n",
              "      border-left-color: var(--fill-color);\n",
              "    }\n",
              "    20% {\n",
              "      border-color: transparent;\n",
              "      border-left-color: var(--fill-color);\n",
              "      border-top-color: var(--fill-color);\n",
              "    }\n",
              "    30% {\n",
              "      border-color: transparent;\n",
              "      border-left-color: var(--fill-color);\n",
              "      border-top-color: var(--fill-color);\n",
              "      border-right-color: var(--fill-color);\n",
              "    }\n",
              "    40% {\n",
              "      border-color: transparent;\n",
              "      border-right-color: var(--fill-color);\n",
              "      border-top-color: var(--fill-color);\n",
              "    }\n",
              "    60% {\n",
              "      border-color: transparent;\n",
              "      border-right-color: var(--fill-color);\n",
              "    }\n",
              "    80% {\n",
              "      border-color: transparent;\n",
              "      border-right-color: var(--fill-color);\n",
              "      border-bottom-color: var(--fill-color);\n",
              "    }\n",
              "    90% {\n",
              "      border-color: transparent;\n",
              "      border-bottom-color: var(--fill-color);\n",
              "    }\n",
              "  }\n",
              "</style>\n",
              "\n",
              "  <script>\n",
              "    async function quickchart(key) {\n",
              "      const quickchartButtonEl =\n",
              "        document.querySelector('#' + key + ' button');\n",
              "      quickchartButtonEl.disabled = true;  // To prevent multiple clicks.\n",
              "      quickchartButtonEl.classList.add('colab-df-spinner');\n",
              "      try {\n",
              "        const charts = await google.colab.kernel.invokeFunction(\n",
              "            'suggestCharts', [key], {});\n",
              "      } catch (error) {\n",
              "        console.error('Error during call to suggestCharts:', error);\n",
              "      }\n",
              "      quickchartButtonEl.classList.remove('colab-df-spinner');\n",
              "      quickchartButtonEl.classList.add('colab-df-quickchart-complete');\n",
              "    }\n",
              "    (() => {\n",
              "      let quickchartButtonEl =\n",
              "        document.querySelector('#df-882bea8f-1d01-4962-acce-a0ea97dcf8f0 button');\n",
              "      quickchartButtonEl.style.display =\n",
              "        google.colab.kernel.accessAllowed ? 'block' : 'none';\n",
              "    })();\n",
              "  </script>\n",
              "</div>\n",
              "\n",
              "    </div>\n",
              "  </div>\n"
            ],
            "application/vnd.google.colaboratory.intrinsic+json": {
              "type": "dataframe",
              "summary": "{\n  \"name\": \"df_bike\",\n  \"rows\": 8,\n  \"fields\": [\n    {\n      \"column\": \"selling_price\",\n      \"properties\": {\n        \"dtype\": \"number\",\n        \"std\": 256552.1391466637,\n        \"min\": 1061.0,\n        \"max\": 760000.0,\n        \"num_unique_values\": 8,\n        \"samples\": [\n          59638.151743638075,\n          45000.0,\n          1061.0\n        ],\n        \"semantic_type\": \"\",\n        \"description\": \"\"\n      }\n    },\n    {\n      \"column\": \"year\",\n      \"properties\": {\n        \"dtype\": \"number\",\n        \"std\": 740.3101938279908,\n        \"min\": 4.301191368192793,\n        \"max\": 2020.0,\n        \"num_unique_values\": 8,\n        \"samples\": [\n          2013.8671065032988,\n          2015.0,\n          1061.0\n        ],\n        \"semantic_type\": \"\",\n        \"description\": \"\"\n      }\n    },\n    {\n      \"column\": \"km_driven\",\n      \"properties\": {\n        \"dtype\": \"number\",\n        \"std\": 303169.14704746514,\n        \"min\": 350.0,\n        \"max\": 880000.0,\n        \"num_unique_values\": 8,\n        \"samples\": [\n          34359.83317624882,\n          25000.0,\n          1061.0\n        ],\n        \"semantic_type\": \"\",\n        \"description\": \"\"\n      }\n    },\n    {\n      \"column\": \"ex_showroom_price\",\n      \"properties\": {\n        \"dtype\": \"number\",\n        \"std\": 432130.1019716016,\n        \"min\": 626.0,\n        \"max\": 1278000.0,\n        \"num_unique_values\": 8,\n        \"samples\": [\n          87958.71405750798,\n          72752.5,\n          626.0\n        ],\n        \"semantic_type\": \"\",\n        \"description\": \"\"\n      }\n    }\n  ]\n}"
            }
          },
          "metadata": {},
          "execution_count": 6
        }
      ]
    },
    {
      "cell_type": "markdown",
      "source": [
        "## 1. What is the range of selling prices in the dataset?"
      ],
      "metadata": {
        "id": "PPudRHK45-o5"
      }
    },
    {
      "cell_type": "code",
      "source": [
        "sns.histplot(df_bike['selling_price'], kde=True)"
      ],
      "metadata": {
        "colab": {
          "base_uri": "https://localhost:8080/",
          "height": 467
        },
        "id": "6H-gvzta5W0g",
        "outputId": "46dc54bc-7866-4690-9a1e-8186728811c6"
      },
      "execution_count": null,
      "outputs": [
        {
          "output_type": "execute_result",
          "data": {
            "text/plain": [
              "<Axes: xlabel='selling_price', ylabel='Count'>"
            ]
          },
          "metadata": {},
          "execution_count": 7
        },
        {
          "output_type": "display_data",
          "data": {
            "text/plain": [
              "<Figure size 640x480 with 1 Axes>"
            ],
            "image/png": "[encoded data removed]"
          },
          "metadata": {}
        }
      ]
    },
    {
      "cell_type": "code",
      "source": [
        "# range of column = max-min\n",
        "\n",
        "selling_range = df_bike['selling_price'].max() - df_bike['selling_price'].min()\n",
        "print(f'Rupees: {selling_range}')"
      ],
      "metadata": {
        "colab": {
          "base_uri": "https://localhost:8080/"
        },
        "id": "aBDBAaeD6Z20",
        "outputId": "ee67f076-7b34-4ba2-a49b-f4fd7cb8ca9b"
      },
      "execution_count": null,
      "outputs": [
        {
          "output_type": "stream",
          "name": "stdout",
          "text": [
            "Rupees: 755000\n"
          ]
        }
      ]
    },
    {
      "cell_type": "markdown",
      "source": [
        "## 2. What is the median selling price for bikes in the dataset?"
      ],
      "metadata": {
        "id": "jsm3rwRZ7Xul"
      }
    },
    {
      "cell_type": "code",
      "source": [
        "df_bike['selling_price'].median()"
      ],
      "metadata": {
        "colab": {
          "base_uri": "https://localhost:8080/"
        },
        "id": "0KvOWdbj7ESY",
        "outputId": "041e8228-87c8-448c-86d5-1750ccd3973a"
      },
      "execution_count": null,
      "outputs": [
        {
          "output_type": "execute_result",
          "data": {
            "text/plain": [
              "45000.0"
            ]
          },
          "metadata": {},
          "execution_count": 9
        }
      ]
    },
    {
      "cell_type": "markdown",
      "source": [
        "## 3. What is the most common seller type?"
      ],
      "metadata": {
        "id": "5I4vvp5C7rGR"
      }
    },
    {
      "cell_type": "code",
      "source": [
        "df_bike['seller_type'].value_counts()\n",
        "\n",
        "# Individual are most common seller type"
      ],
      "metadata": {
        "colab": {
          "base_uri": "https://localhost:8080/",
          "height": 178
        },
        "id": "tO58iJko7f34",
        "outputId": "56ffe7e9-823f-4b73-9de6-ffec885b9dd0"
      },
      "execution_count": null,
      "outputs": [
        {
          "output_type": "execute_result",
          "data": {
            "text/plain": [
              "seller_type\n",
              "Individual    1055\n",
              "Dealer           6\n",
              "Name: count, dtype: int64"
            ],
            "text/html": [
              "<div>\n",
              "<style scoped>\n",
              "    .dataframe tbody tr th:only-of-type {\n",
              "        vertical-align: middle;\n",
              "    }\n",
              "\n",
              "    .dataframe tbody tr th {\n",
              "        vertical-align: top;\n",
              "    }\n",
              "\n",
              "    .dataframe thead th {\n",
              "        text-align: right;\n",
              "    }\n",
              "</style>\n",
              "<table border=\"1\" class=\"dataframe\">\n",
              "  <thead>\n",
              "    <tr style=\"text-align: right;\">\n",
              "      <th></th>\n",
              "      <th>count</th>\n",
              "    </tr>\n",
              "    <tr>\n",
              "      <th>seller_type</th>\n",
              "      <th></th>\n",
              "    </tr>\n",
              "  </thead>\n",
              "  <tbody>\n",
              "    <tr>\n",
              "      <th>Individual</th>\n",
              "      <td>1055</td>\n",
              "    </tr>\n",
              "    <tr>\n",
              "      <th>Dealer</th>\n",
              "      <td>6</td>\n",
              "    </tr>\n",
              "  </tbody>\n",
              "</table>\n",
              "</div><br><label><b>dtype:</b> int64</label>"
            ]
          },
          "metadata": {},
          "execution_count": 10
        }
      ]
    },
    {
      "cell_type": "markdown",
      "source": [
        "##  4. How many bikes have driven more than 50,000 kilometers?"
      ],
      "metadata": {
        "id": "Pl0Nqp9y8Z7a"
      }
    },
    {
      "cell_type": "code",
      "source": [
        "df_bike.columns"
      ],
      "metadata": {
        "colab": {
          "base_uri": "https://localhost:8080/"
        },
        "id": "he-xtcBL81NN",
        "outputId": "7507e359-7a95-49c6-f1f4-5a318f21fb8c"
      },
      "execution_count": null,
      "outputs": [
        {
          "output_type": "execute_result",
          "data": {
            "text/plain": [
              "Index(['name', 'selling_price', 'year', 'seller_type', 'owner', 'km_driven',\n",
              "       'ex_showroom_price'],\n",
              "      dtype='object')"
            ]
          },
          "metadata": {},
          "execution_count": 11
        }
      ]
    },
    {
      "cell_type": "code",
      "source": [
        "df_bike[df_bike['km_driven'] > 50000].shape[0]\n",
        "\n",
        "# There are 170 bikes which have driven more then 50000 km"
      ],
      "metadata": {
        "colab": {
          "base_uri": "https://localhost:8080/"
        },
        "id": "eFAuTSs88Pj7",
        "outputId": "05223aea-12c8-4658-fe2c-06196cf4cd0d"
      },
      "execution_count": null,
      "outputs": [
        {
          "output_type": "execute_result",
          "data": {
            "text/plain": [
              "170"
            ]
          },
          "metadata": {},
          "execution_count": 12
        }
      ]
    },
    {
      "cell_type": "markdown",
      "source": [
        "## 5. What is the average km_driven value for each ownership type?"
      ],
      "metadata": {
        "id": "uazIQ44_9hlx"
      }
    },
    {
      "cell_type": "code",
      "source": [
        "df_bike.head()"
      ],
      "metadata": {
        "colab": {
          "base_uri": "https://localhost:8080/",
          "height": 206
        },
        "id": "UaeWgshx9nSg",
        "outputId": "8de48bd1-dfda-47e3-b999-06bc95c01529"
      },
      "execution_count": null,
      "outputs": [
        {
          "output_type": "execute_result",
          "data": {
            "text/plain": [
              "                                  name  selling_price  year seller_type  \\\n",
              "0            Royal Enfield Classic 350         175000  2019  Individual   \n",
              "1                            Honda Dio          45000  2017  Individual   \n",
              "2  Royal Enfield Classic Gunmetal Grey         150000  2018  Individual   \n",
              "3    Yamaha Fazer FI V 2.0 [2016-2018]          65000  2015  Individual   \n",
              "4                Yamaha SZ [2013-2014]          20000  2011  Individual   \n",
              "\n",
              "       owner  km_driven  ex_showroom_price  \n",
              "0  1st owner        350                NaN  \n",
              "1  1st owner       5650                NaN  \n",
              "2  1st owner      12000           148114.0  \n",
              "3  1st owner      23000            89643.0  \n",
              "4  2nd owner      21000                NaN  "
            ],
            "text/html": [
              "\n",
              "  <div id=\"df-17e829b8-2e78-4e01-8ba7-9cb595b19f50\" class=\"colab-df-container\">\n",
              "    <div>\n",
              "<style scoped>\n",
              "    .dataframe tbody tr th:only-of-type {\n",
              "        vertical-align: middle;\n",
              "    }\n",
              "\n",
              "    .dataframe tbody tr th {\n",
              "        vertical-align: top;\n",
              "    }\n",
              "\n",
              "    .dataframe thead th {\n",
              "        text-align: right;\n",
              "    }\n",
              "</style>\n",
              "<table border=\"1\" class=\"dataframe\">\n",
              "  <thead>\n",
              "    <tr style=\"text-align: right;\">\n",
              "      <th></th>\n",
              "      <th>name</th>\n",
              "      <th>selling_price</th>\n",
              "      <th>year</th>\n",
              "      <th>seller_type</th>\n",
              "      <th>owner</th>\n",
              "      <th>km_driven</th>\n",
              "      <th>ex_showroom_price</th>\n",
              "    </tr>\n",
              "  </thead>\n",
              "  <tbody>\n",
              "    <tr>\n",
              "      <th>0</th>\n",
              "      <td>Royal Enfield Classic 350</td>\n",
              "      <td>175000</td>\n",
              "      <td>2019</td>\n",
              "      <td>Individual</td>\n",
              "      <td>1st owner</td>\n",
              "      <td>350</td>\n",
              "      <td>NaN</td>\n",
              "    </tr>\n",
              "    <tr>\n",
              "      <th>1</th>\n",
              "      <td>Honda Dio</td>\n",
              "      <td>45000</td>\n",
              "      <td>2017</td>\n",
              "      <td>Individual</td>\n",
              "      <td>1st owner</td>\n",
              "      <td>5650</td>\n",
              "      <td>NaN</td>\n",
              "    </tr>\n",
              "    <tr>\n",
              "      <th>2</th>\n",
              "      <td>Royal Enfield Classic Gunmetal Grey</td>\n",
              "      <td>150000</td>\n",
              "      <td>2018</td>\n",
              "      <td>Individual</td>\n",
              "      <td>1st owner</td>\n",
              "      <td>12000</td>\n",
              "      <td>148114.0</td>\n",
              "    </tr>\n",
              "    <tr>\n",
              "      <th>3</th>\n",
              "      <td>Yamaha Fazer FI V 2.0 [2016-2018]</td>\n",
              "      <td>65000</td>\n",
              "      <td>2015</td>\n",
              "      <td>Individual</td>\n",
              "      <td>1st owner</td>\n",
              "      <td>23000</td>\n",
              "      <td>89643.0</td>\n",
              "    </tr>\n",
              "    <tr>\n",
              "      <th>4</th>\n",
              "      <td>Yamaha SZ [2013-2014]</td>\n",
              "      <td>20000</td>\n",
              "      <td>2011</td>\n",
              "      <td>Individual</td>\n",
              "      <td>2nd owner</td>\n",
              "      <td>21000</td>\n",
              "      <td>NaN</td>\n",
              "    </tr>\n",
              "  </tbody>\n",
              "</table>\n",
              "</div>\n",
              "    <div class=\"colab-df-buttons\">\n",
              "\n",
              "  <div class=\"colab-df-container\">\n",
              "    <button class=\"colab-df-convert\" onclick=\"convertToInteractive('df-17e829b8-2e78-4e01-8ba7-9cb595b19f50')\"\n",
              "            title=\"Convert this dataframe to an interactive table.\"\n",
              "            style=\"display:none;\">\n",
              "\n",
              "  <svg xmlns=\"http://www.w3.org/2000/svg\" height=\"24px\" viewBox=\"0 -960 960 960\">\n",
              "    <path d=\"M120-120v-720h720v720H120Zm60-500h600v-160H180v160Zm220 220h160v-160H400v160Zm0 220h160v-160H400v160ZM180-400h160v-160H180v160Zm440 0h160v-160H620v160ZM180-180h160v-160H180v160Zm440 0h160v-160H620v160Z\"/>\n",
              "  </svg>\n",
              "    </button>\n",
              "\n",
              "  <style>\n",
              "    .colab-df-container {\n",
              "      display:flex;\n",
              "      gap: 12px;\n",
              "    }\n",
              "\n",
              "    .colab-df-convert {\n",
              "      background-color: #E8F0FE;\n",
              "      border: none;\n",
              "      border-radius: 50%;\n",
              "      cursor: pointer;\n",
              "      display: none;\n",
              "      fill: #1967D2;\n",
              "      height: 32px;\n",
              "      padding: 0 0 0 0;\n",
              "      width: 32px;\n",
              "    }\n",
              "\n",
              "    .colab-df-convert:hover {\n",
              "      background-color: #E2EBFA;\n",
              "      box-shadow: 0px 1px 2px rgba(60, 64, 67, 0.3), 0px 1px 3px 1px rgba(60, 64, 67, 0.15);\n",
              "      fill: #174EA6;\n",
              "    }\n",
              "\n",
              "    .colab-df-buttons div {\n",
              "      margin-bottom: 4px;\n",
              "    }\n",
              "\n",
              "    [theme=dark] .colab-df-convert {\n",
              "      background-color: #3B4455;\n",
              "      fill: #D2E3FC;\n",
              "    }\n",
              "\n",
              "    [theme=dark] .colab-df-convert:hover {\n",
              "      background-color: #434B5C;\n",
              "      box-shadow: 0px 1px 3px 1px rgba(0, 0, 0, 0.15);\n",
              "      filter: drop-shadow(0px 1px 2px rgba(0, 0, 0, 0.3));\n",
              "      fill: #FFFFFF;\n",
              "    }\n",
              "  </style>\n",
              "\n",
              "    <script>\n",
              "      const buttonEl =\n",
              "        document.querySelector('#df-17e829b8-2e78-4e01-8ba7-9cb595b19f50 button.colab-df-convert');\n",
              "      buttonEl.style.display =\n",
              "        google.colab.kernel.accessAllowed ? 'block' : 'none';\n",
              "\n",
              "      async function convertToInteractive(key) {\n",
              "        const element = document.querySelector('#df-17e829b8-2e78-4e01-8ba7-9cb595b19f50');\n",
              "        const dataTable =\n",
              "          await google.colab.kernel.invokeFunction('convertToInteractive',\n",
              "                                                    [key], {});\n",
              "        if (!dataTable) return;\n",
              "\n",
              "        const docLinkHtml = 'Like what you see? Visit the ' +\n",
              "          '<a target=\"_blank\" href=https://colab.research.google.com/notebooks/data_table.ipynb>data table notebook</a>'\n",
              "          + ' to learn more about interactive tables.';\n",
              "        element.innerHTML = '';\n",
              "        dataTable['output_type'] = 'display_data';\n",
              "        await google.colab.output.renderOutput(dataTable, element);\n",
              "        const docLink = document.createElement('div');\n",
              "        docLink.innerHTML = docLinkHtml;\n",
              "        element.appendChild(docLink);\n",
              "      }\n",
              "    </script>\n",
              "  </div>\n",
              "\n",
              "\n",
              "<div id=\"df-048f6167-cae5-4cb1-ace7-707bfe15567f\">\n",
              "  <button class=\"colab-df-quickchart\" onclick=\"quickchart('df-048f6167-cae5-4cb1-ace7-707bfe15567f')\"\n",
              "            title=\"Suggest charts\"\n",
              "            style=\"display:none;\">\n",
              "\n",
              "<svg xmlns=\"http://www.w3.org/2000/svg\" height=\"24px\"viewBox=\"0 0 24 24\"\n",
              "     width=\"24px\">\n",
              "    <g>\n",
              "        <path d=\"M19 3H5c-1.1 0-2 .9-2 2v14c0 1.1.9 2 2 2h14c1.1 0 2-.9 2-2V5c0-1.1-.9-2-2-2zM9 17H7v-7h2v7zm4 0h-2V7h2v10zm4 0h-2v-4h2v4z\"/>\n",
              "    </g>\n",
              "</svg>\n",
              "  </button>\n",
              "\n",
              "<style>\n",
              "  .colab-df-quickchart {\n",
              "      --bg-color: #E8F0FE;\n",
              "      --fill-color: #1967D2;\n",
              "      --hover-bg-color: #E2EBFA;\n",
              "      --hover-fill-color: #174EA6;\n",
              "      --disabled-fill-color: #AAA;\n",
              "      --disabled-bg-color: #DDD;\n",
              "  }\n",
              "\n",
              "  [theme=dark] .colab-df-quickchart {\n",
              "      --bg-color: #3B4455;\n",
              "      --fill-color: #D2E3FC;\n",
              "      --hover-bg-color: #434B5C;\n",
              "      --hover-fill-color: #FFFFFF;\n",
              "      --disabled-bg-color: #3B4455;\n",
              "      --disabled-fill-color: #666;\n",
              "  }\n",
              "\n",
              "  .colab-df-quickchart {\n",
              "    background-color: var(--bg-color);\n",
              "    border: none;\n",
              "    border-radius: 50%;\n",
              "    cursor: pointer;\n",
              "    display: none;\n",
              "    fill: var(--fill-color);\n",
              "    height: 32px;\n",
              "    padding: 0;\n",
              "    width: 32px;\n",
              "  }\n",
              "\n",
              "  .colab-df-quickchart:hover {\n",
              "    background-color: var(--hover-bg-color);\n",
              "    box-shadow: 0 1px 2px rgba(60, 64, 67, 0.3), 0 1px 3px 1px rgba(60, 64, 67, 0.15);\n",
              "    fill: var(--button-hover-fill-color);\n",
              "  }\n",
              "\n",
              "  .colab-df-quickchart-complete:disabled,\n",
              "  .colab-df-quickchart-complete:disabled:hover {\n",
              "    background-color: var(--disabled-bg-color);\n",
              "    fill: var(--disabled-fill-color);\n",
              "    box-shadow: none;\n",
              "  }\n",
              "\n",
              "  .colab-df-spinner {\n",
              "    border: 2px solid var(--fill-color);\n",
              "    border-color: transparent;\n",
              "    border-bottom-color: var(--fill-color);\n",
              "    animation:\n",
              "      spin 1s steps(1) infinite;\n",
              "  }\n",
              "\n",
              "  @keyframes spin {\n",
              "    0% {\n",
              "      border-color: transparent;\n",
              "      border-bottom-color: var(--fill-color);\n",
              "      border-left-color: var(--fill-color);\n",
              "    }\n",
              "    20% {\n",
              "      border-color: transparent;\n",
              "      border-left-color: var(--fill-color);\n",
              "      border-top-color: var(--fill-color);\n",
              "    }\n",
              "    30% {\n",
              "      border-color: transparent;\n",
              "      border-left-color: var(--fill-color);\n",
              "      border-top-color: var(--fill-color);\n",
              "      border-right-color: var(--fill-color);\n",
              "    }\n",
              "    40% {\n",
              "      border-color: transparent;\n",
              "      border-right-color: var(--fill-color);\n",
              "      border-top-color: var(--fill-color);\n",
              "    }\n",
              "    60% {\n",
              "      border-color: transparent;\n",
              "      border-right-color: var(--fill-color);\n",
              "    }\n",
              "    80% {\n",
              "      border-color: transparent;\n",
              "      border-right-color: var(--fill-color);\n",
              "      border-bottom-color: var(--fill-color);\n",
              "    }\n",
              "    90% {\n",
              "      border-color: transparent;\n",
              "      border-bottom-color: var(--fill-color);\n",
              "    }\n",
              "  }\n",
              "</style>\n",
              "\n",
              "  <script>\n",
              "    async function quickchart(key) {\n",
              "      const quickchartButtonEl =\n",
              "        document.querySelector('#' + key + ' button');\n",
              "      quickchartButtonEl.disabled = true;  // To prevent multiple clicks.\n",
              "      quickchartButtonEl.classList.add('colab-df-spinner');\n",
              "      try {\n",
              "        const charts = await google.colab.kernel.invokeFunction(\n",
              "            'suggestCharts', [key], {});\n",
              "      } catch (error) {\n",
              "        console.error('Error during call to suggestCharts:', error);\n",
              "      }\n",
              "      quickchartButtonEl.classList.remove('colab-df-spinner');\n",
              "      quickchartButtonEl.classList.add('colab-df-quickchart-complete');\n",
              "    }\n",
              "    (() => {\n",
              "      let quickchartButtonEl =\n",
              "        document.querySelector('#df-048f6167-cae5-4cb1-ace7-707bfe15567f button');\n",
              "      quickchartButtonEl.style.display =\n",
              "        google.colab.kernel.accessAllowed ? 'block' : 'none';\n",
              "    })();\n",
              "  </script>\n",
              "</div>\n",
              "\n",
              "    </div>\n",
              "  </div>\n"
            ],
            "application/vnd.google.colaboratory.intrinsic+json": {
              "type": "dataframe",
              "variable_name": "df_bike",
              "summary": "{\n  \"name\": \"df_bike\",\n  \"rows\": 1061,\n  \"fields\": [\n    {\n      \"column\": \"name\",\n      \"properties\": {\n        \"dtype\": \"category\",\n        \"num_unique_values\": 279,\n        \"samples\": [\n          \"Hero Xtreme Sports\",\n          \"Hero Honda Passion\",\n          \"TVS Streak\"\n        ],\n        \"semantic_type\": \"\",\n        \"description\": \"\"\n      }\n    },\n    {\n      \"column\": \"selling_price\",\n      \"properties\": {\n        \"dtype\": \"number\",\n        \"std\": 56304,\n        \"min\": 5000,\n        \"max\": 760000,\n        \"num_unique_values\": 130,\n        \"samples\": [\n          72000,\n          160000,\n          26000\n        ],\n        \"semantic_type\": \"\",\n        \"description\": \"\"\n      }\n    },\n    {\n      \"column\": \"year\",\n      \"properties\": {\n        \"dtype\": \"number\",\n        \"std\": 4,\n        \"min\": 1988,\n        \"max\": 2020,\n        \"num_unique_values\": 28,\n        \"samples\": [\n          2012,\n          2003,\n          2020\n        ],\n        \"semantic_type\": \"\",\n        \"description\": \"\"\n      }\n    },\n    {\n      \"column\": \"seller_type\",\n      \"properties\": {\n        \"dtype\": \"category\",\n        \"num_unique_values\": 2,\n        \"samples\": [\n          \"Dealer\",\n          \"Individual\"\n        ],\n        \"semantic_type\": \"\",\n        \"description\": \"\"\n      }\n    },\n    {\n      \"column\": \"owner\",\n      \"properties\": {\n        \"dtype\": \"category\",\n        \"num_unique_values\": 4,\n        \"samples\": [\n          \"2nd owner\",\n          \"4th owner\"\n        ],\n        \"semantic_type\": \"\",\n        \"description\": \"\"\n      }\n    },\n    {\n      \"column\": \"km_driven\",\n      \"properties\": {\n        \"dtype\": \"number\",\n        \"std\": 51623,\n        \"min\": 350,\n        \"max\": 880000,\n        \"num_unique_values\": 304,\n        \"samples\": [\n          19500,\n          11500\n        ],\n        \"semantic_type\": \"\",\n        \"description\": \"\"\n      }\n    },\n    {\n      \"column\": \"ex_showroom_price\",\n      \"properties\": {\n        \"dtype\": \"number\",\n        \"std\": 77496.58718945317,\n        \"min\": 30490.0,\n        \"max\": 1278000.0,\n        \"num_unique_values\": 230,\n        \"samples\": [\n          54000.0,\n          64589.0\n        ],\n        \"semantic_type\": \"\",\n        \"description\": \"\"\n      }\n    }\n  ]\n}"
            }
          },
          "metadata": {},
          "execution_count": 13
        }
      ]
    },
    {
      "cell_type": "code",
      "source": [
        "owner_km_avg = df_bike.groupby('owner')['km_driven'].mean()\n",
        "owner_km_median = df_bike.groupby('owner')['km_driven'].median()"
      ],
      "metadata": {
        "id": "mVp8tZzM9FWN"
      },
      "execution_count": null,
      "outputs": []
    },
    {
      "cell_type": "code",
      "source": [
        "print(owner_km_avg,'\\n')\n",
        "print(owner_km_median)"
      ],
      "metadata": {
        "colab": {
          "base_uri": "https://localhost:8080/"
        },
        "id": "LGjovVNb-A3K",
        "outputId": "31c11217-804f-41d2-d7c6-4f4290823062"
      },
      "execution_count": null,
      "outputs": [
        {
          "output_type": "stream",
          "name": "stdout",
          "text": [
            "owner\n",
            "1st owner     32816.583333\n",
            "2nd owner     39288.991870\n",
            "3rd owner     33292.181818\n",
            "4th owner    311500.000000\n",
            "Name: km_driven, dtype: float64 \n",
            "\n",
            "owner\n",
            "1st owner    24000.0\n",
            "2nd owner    34000.0\n",
            "3rd owner    35000.0\n",
            "4th owner    48000.0\n",
            "Name: km_driven, dtype: float64\n"
          ]
        }
      ]
    },
    {
      "cell_type": "markdown",
      "source": [
        "## 6. What proportion of bikes are from the year 2015 or older?"
      ],
      "metadata": {
        "id": "Q6j2CIIP-2zk"
      }
    },
    {
      "cell_type": "code",
      "source": [
        "df_bike.shape[0]"
      ],
      "metadata": {
        "colab": {
          "base_uri": "https://localhost:8080/"
        },
        "id": "q0GWlaWc-S5T",
        "outputId": "131d2b83-3049-47ea-e030-c234090e2e4c"
      },
      "execution_count": null,
      "outputs": [
        {
          "output_type": "execute_result",
          "data": {
            "text/plain": [
              "1061"
            ]
          },
          "metadata": {},
          "execution_count": 16
        }
      ]
    },
    {
      "cell_type": "code",
      "source": [
        "# So, we have 1061 total bikes data.\n",
        "# number of bikes from the year 2015 or older\n",
        "\n",
        "df_bike[df_bike['year'] <= 2015].shape[0]"
      ],
      "metadata": {
        "colab": {
          "base_uri": "https://localhost:8080/"
        },
        "id": "7vVRLdpx_C7a",
        "outputId": "9175c03b-e122-40d5-d7eb-dc58008ed967"
      },
      "execution_count": null,
      "outputs": [
        {
          "output_type": "execute_result",
          "data": {
            "text/plain": [
              "601"
            ]
          },
          "metadata": {},
          "execution_count": 17
        }
      ]
    },
    {
      "cell_type": "code",
      "source": [
        "# 601 bikes are from the year 2015 or older\n",
        "# so proportion of bikes would be\n",
        "\n",
        "round(df_bike[df_bike['year'] <= 2015].shape[0] / df_bike.shape[0], 4)*100\n",
        "\n",
        "# so almost 56% of the data are of 2015 or older bikes"
      ],
      "metadata": {
        "colab": {
          "base_uri": "https://localhost:8080/"
        },
        "id": "SGXKsoEDB-vF",
        "outputId": "a7d01f27-d82d-4d08-a311-978303c456c5"
      },
      "execution_count": null,
      "outputs": [
        {
          "output_type": "execute_result",
          "data": {
            "text/plain": [
              "56.64"
            ]
          },
          "metadata": {},
          "execution_count": 18
        }
      ]
    },
    {
      "cell_type": "markdown",
      "source": [
        "## 7. What is the trend of missing values across the dataset?"
      ],
      "metadata": {
        "id": "mQ6O8hpfDiXH"
      }
    },
    {
      "cell_type": "code",
      "source": [
        "df_bike.isna().sum()"
      ],
      "metadata": {
        "colab": {
          "base_uri": "https://localhost:8080/",
          "height": 303
        },
        "id": "7ZopsamcDjIc",
        "outputId": "c8220bb4-3eb9-496e-e55e-553a058aed9a"
      },
      "execution_count": null,
      "outputs": [
        {
          "output_type": "execute_result",
          "data": {
            "text/plain": [
              "name                   0\n",
              "selling_price          0\n",
              "year                   0\n",
              "seller_type            0\n",
              "owner                  0\n",
              "km_driven              0\n",
              "ex_showroom_price    435\n",
              "dtype: int64"
            ],
            "text/html": [
              "<div>\n",
              "<style scoped>\n",
              "    .dataframe tbody tr th:only-of-type {\n",
              "        vertical-align: middle;\n",
              "    }\n",
              "\n",
              "    .dataframe tbody tr th {\n",
              "        vertical-align: top;\n",
              "    }\n",
              "\n",
              "    .dataframe thead th {\n",
              "        text-align: right;\n",
              "    }\n",
              "</style>\n",
              "<table border=\"1\" class=\"dataframe\">\n",
              "  <thead>\n",
              "    <tr style=\"text-align: right;\">\n",
              "      <th></th>\n",
              "      <th>0</th>\n",
              "    </tr>\n",
              "  </thead>\n",
              "  <tbody>\n",
              "    <tr>\n",
              "      <th>name</th>\n",
              "      <td>0</td>\n",
              "    </tr>\n",
              "    <tr>\n",
              "      <th>selling_price</th>\n",
              "      <td>0</td>\n",
              "    </tr>\n",
              "    <tr>\n",
              "      <th>year</th>\n",
              "      <td>0</td>\n",
              "    </tr>\n",
              "    <tr>\n",
              "      <th>seller_type</th>\n",
              "      <td>0</td>\n",
              "    </tr>\n",
              "    <tr>\n",
              "      <th>owner</th>\n",
              "      <td>0</td>\n",
              "    </tr>\n",
              "    <tr>\n",
              "      <th>km_driven</th>\n",
              "      <td>0</td>\n",
              "    </tr>\n",
              "    <tr>\n",
              "      <th>ex_showroom_price</th>\n",
              "      <td>435</td>\n",
              "    </tr>\n",
              "  </tbody>\n",
              "</table>\n",
              "</div><br><label><b>dtype:</b> int64</label>"
            ]
          },
          "metadata": {},
          "execution_count": 19
        }
      ]
    },
    {
      "cell_type": "code",
      "source": [
        "# ex_showroom_price has missing values\n",
        "\n",
        "round(df['ex_showroom_price'].isna().sum()/df['ex_showroom_price'].shape[0], 4)*100\n",
        "\n",
        "# so we have around 40% of data missing in ex_showrom_price column. so we have to drop the column, but this column will be very helpul while prediction for reselling price"
      ],
      "metadata": {
        "colab": {
          "base_uri": "https://localhost:8080/"
        },
        "id": "Fu0m8d1lEUNG",
        "outputId": "9d5ef299-4348-45d7-962e-cf65d4ab631a"
      },
      "execution_count": null,
      "outputs": [
        {
          "output_type": "execute_result",
          "data": {
            "text/plain": [
              "41.0"
            ]
          },
          "metadata": {},
          "execution_count": 20
        }
      ]
    },
    {
      "cell_type": "code",
      "source": [
        "df_bike.corr(numeric_only=True)['ex_showroom_price'].sort_values(ascending=False)\n"
      ],
      "metadata": {
        "colab": {
          "base_uri": "https://localhost:8080/",
          "height": 209
        },
        "id": "Cc73dgjXEfAa",
        "outputId": "b219530f-d1e2-43ad-c085-748962adddfa"
      },
      "execution_count": null,
      "outputs": [
        {
          "output_type": "execute_result",
          "data": {
            "text/plain": [
              "ex_showroom_price    1.000000\n",
              "selling_price        0.918583\n",
              "year                 0.126378\n",
              "km_driven           -0.122011\n",
              "Name: ex_showroom_price, dtype: float64"
            ],
            "text/html": [
              "<div>\n",
              "<style scoped>\n",
              "    .dataframe tbody tr th:only-of-type {\n",
              "        vertical-align: middle;\n",
              "    }\n",
              "\n",
              "    .dataframe tbody tr th {\n",
              "        vertical-align: top;\n",
              "    }\n",
              "\n",
              "    .dataframe thead th {\n",
              "        text-align: right;\n",
              "    }\n",
              "</style>\n",
              "<table border=\"1\" class=\"dataframe\">\n",
              "  <thead>\n",
              "    <tr style=\"text-align: right;\">\n",
              "      <th></th>\n",
              "      <th>ex_showroom_price</th>\n",
              "    </tr>\n",
              "  </thead>\n",
              "  <tbody>\n",
              "    <tr>\n",
              "      <th>ex_showroom_price</th>\n",
              "      <td>1.000000</td>\n",
              "    </tr>\n",
              "    <tr>\n",
              "      <th>selling_price</th>\n",
              "      <td>0.918583</td>\n",
              "    </tr>\n",
              "    <tr>\n",
              "      <th>year</th>\n",
              "      <td>0.126378</td>\n",
              "    </tr>\n",
              "    <tr>\n",
              "      <th>km_driven</th>\n",
              "      <td>-0.122011</td>\n",
              "    </tr>\n",
              "  </tbody>\n",
              "</table>\n",
              "</div><br><label><b>dtype:</b> float64</label>"
            ]
          },
          "metadata": {},
          "execution_count": 21
        }
      ]
    },
    {
      "cell_type": "markdown",
      "source": [
        "## 8. What is the highest ex_showroom_price recorded, and for which bike?"
      ],
      "metadata": {
        "id": "q1P7BuT9HI1O"
      }
    },
    {
      "cell_type": "code",
      "source": [
        "df_bike[df_bike['ex_showroom_price'] == df_bike['ex_showroom_price'].max()]"
      ],
      "metadata": {
        "colab": {
          "base_uri": "https://localhost:8080/",
          "height": 80
        },
        "id": "P4RMApmAGmLt",
        "outputId": "7f7ab87d-cabb-4782-97aa-74030138b8b0"
      },
      "execution_count": null,
      "outputs": [
        {
          "output_type": "execute_result",
          "data": {
            "text/plain": [
              "                           name  selling_price  year seller_type      owner  \\\n",
              "134  Harley-Davidson Street Bob         750000  2013  Individual  2nd owner   \n",
              "\n",
              "     km_driven  ex_showroom_price  \n",
              "134      12000          1278000.0  "
            ],
            "text/html": [
              "\n",
              "  <div id=\"df-cd49d90d-a23a-4271-802e-68488d071ea1\" class=\"colab-df-container\">\n",
              "    <div>\n",
              "<style scoped>\n",
              "    .dataframe tbody tr th:only-of-type {\n",
              "        vertical-align: middle;\n",
              "    }\n",
              "\n",
              "    .dataframe tbody tr th {\n",
              "        vertical-align: top;\n",
              "    }\n",
              "\n",
              "    .dataframe thead th {\n",
              "        text-align: right;\n",
              "    }\n",
              "</style>\n",
              "<table border=\"1\" class=\"dataframe\">\n",
              "  <thead>\n",
              "    <tr style=\"text-align: right;\">\n",
              "      <th></th>\n",
              "      <th>name</th>\n",
              "      <th>selling_price</th>\n",
              "      <th>year</th>\n",
              "      <th>seller_type</th>\n",
              "      <th>owner</th>\n",
              "      <th>km_driven</th>\n",
              "      <th>ex_showroom_price</th>\n",
              "    </tr>\n",
              "  </thead>\n",
              "  <tbody>\n",
              "    <tr>\n",
              "      <th>134</th>\n",
              "      <td>Harley-Davidson Street Bob</td>\n",
              "      <td>750000</td>\n",
              "      <td>2013</td>\n",
              "      <td>Individual</td>\n",
              "      <td>2nd owner</td>\n",
              "      <td>12000</td>\n",
              "      <td>1278000.0</td>\n",
              "    </tr>\n",
              "  </tbody>\n",
              "</table>\n",
              "</div>\n",
              "    <div class=\"colab-df-buttons\">\n",
              "\n",
              "  <div class=\"colab-df-container\">\n",
              "    <button class=\"colab-df-convert\" onclick=\"convertToInteractive('df-cd49d90d-a23a-4271-802e-68488d071ea1')\"\n",
              "            title=\"Convert this dataframe to an interactive table.\"\n",
              "            style=\"display:none;\">\n",
              "\n",
              "  <svg xmlns=\"http://www.w3.org/2000/svg\" height=\"24px\" viewBox=\"0 -960 960 960\">\n",
              "    <path d=\"M120-120v-720h720v720H120Zm60-500h600v-160H180v160Zm220 220h160v-160H400v160Zm0 220h160v-160H400v160ZM180-400h160v-160H180v160Zm440 0h160v-160H620v160ZM180-180h160v-160H180v160Zm440 0h160v-160H620v160Z\"/>\n",
              "  </svg>\n",
              "    </button>\n",
              "\n",
              "  <style>\n",
              "    .colab-df-container {\n",
              "      display:flex;\n",
              "      gap: 12px;\n",
              "    }\n",
              "\n",
              "    .colab-df-convert {\n",
              "      background-color: #E8F0FE;\n",
              "      border: none;\n",
              "      border-radius: 50%;\n",
              "      cursor: pointer;\n",
              "      display: none;\n",
              "      fill: #1967D2;\n",
              "      height: 32px;\n",
              "      padding: 0 0 0 0;\n",
              "      width: 32px;\n",
              "    }\n",
              "\n",
              "    .colab-df-convert:hover {\n",
              "      background-color: #E2EBFA;\n",
              "      box-shadow: 0px 1px 2px rgba(60, 64, 67, 0.3), 0px 1px 3px 1px rgba(60, 64, 67, 0.15);\n",
              "      fill: #174EA6;\n",
              "    }\n",
              "\n",
              "    .colab-df-buttons div {\n",
              "      margin-bottom: 4px;\n",
              "    }\n",
              "\n",
              "    [theme=dark] .colab-df-convert {\n",
              "      background-color: #3B4455;\n",
              "      fill: #D2E3FC;\n",
              "    }\n",
              "\n",
              "    [theme=dark] .colab-df-convert:hover {\n",
              "      background-color: #434B5C;\n",
              "      box-shadow: 0px 1px 3px 1px rgba(0, 0, 0, 0.15);\n",
              "      filter: drop-shadow(0px 1px 2px rgba(0, 0, 0, 0.3));\n",
              "      fill: #FFFFFF;\n",
              "    }\n",
              "  </style>\n",
              "\n",
              "    <script>\n",
              "      const buttonEl =\n",
              "        document.querySelector('#df-cd49d90d-a23a-4271-802e-68488d071ea1 button.colab-df-convert');\n",
              "      buttonEl.style.display =\n",
              "        google.colab.kernel.accessAllowed ? 'block' : 'none';\n",
              "\n",
              "      async function convertToInteractive(key) {\n",
              "        const element = document.querySelector('#df-cd49d90d-a23a-4271-802e-68488d071ea1');\n",
              "        const dataTable =\n",
              "          await google.colab.kernel.invokeFunction('convertToInteractive',\n",
              "                                                    [key], {});\n",
              "        if (!dataTable) return;\n",
              "\n",
              "        const docLinkHtml = 'Like what you see? Visit the ' +\n",
              "          '<a target=\"_blank\" href=https://colab.research.google.com/notebooks/data_table.ipynb>data table notebook</a>'\n",
              "          + ' to learn more about interactive tables.';\n",
              "        element.innerHTML = '';\n",
              "        dataTable['output_type'] = 'display_data';\n",
              "        await google.colab.output.renderOutput(dataTable, element);\n",
              "        const docLink = document.createElement('div');\n",
              "        docLink.innerHTML = docLinkHtml;\n",
              "        element.appendChild(docLink);\n",
              "      }\n",
              "    </script>\n",
              "  </div>\n",
              "\n",
              "\n",
              "    </div>\n",
              "  </div>\n"
            ],
            "application/vnd.google.colaboratory.intrinsic+json": {
              "type": "dataframe",
              "summary": "{\n  \"name\": \"df_bike[df_bike['ex_showroom_price'] == df_bike['ex_showroom_price']\",\n  \"rows\": 1,\n  \"fields\": [\n    {\n      \"column\": \"name\",\n      \"properties\": {\n        \"dtype\": \"string\",\n        \"num_unique_values\": 1,\n        \"samples\": [\n          \"Harley-Davidson Street Bob\"\n        ],\n        \"semantic_type\": \"\",\n        \"description\": \"\"\n      }\n    },\n    {\n      \"column\": \"selling_price\",\n      \"properties\": {\n        \"dtype\": \"number\",\n        \"std\": null,\n        \"min\": 750000,\n        \"max\": 750000,\n        \"num_unique_values\": 1,\n        \"samples\": [\n          750000\n        ],\n        \"semantic_type\": \"\",\n        \"description\": \"\"\n      }\n    },\n    {\n      \"column\": \"year\",\n      \"properties\": {\n        \"dtype\": \"number\",\n        \"std\": null,\n        \"min\": 2013,\n        \"max\": 2013,\n        \"num_unique_values\": 1,\n        \"samples\": [\n          2013\n        ],\n        \"semantic_type\": \"\",\n        \"description\": \"\"\n      }\n    },\n    {\n      \"column\": \"seller_type\",\n      \"properties\": {\n        \"dtype\": \"string\",\n        \"num_unique_values\": 1,\n        \"samples\": [\n          \"Individual\"\n        ],\n        \"semantic_type\": \"\",\n        \"description\": \"\"\n      }\n    },\n    {\n      \"column\": \"owner\",\n      \"properties\": {\n        \"dtype\": \"string\",\n        \"num_unique_values\": 1,\n        \"samples\": [\n          \"2nd owner\"\n        ],\n        \"semantic_type\": \"\",\n        \"description\": \"\"\n      }\n    },\n    {\n      \"column\": \"km_driven\",\n      \"properties\": {\n        \"dtype\": \"number\",\n        \"std\": null,\n        \"min\": 12000,\n        \"max\": 12000,\n        \"num_unique_values\": 1,\n        \"samples\": [\n          12000\n        ],\n        \"semantic_type\": \"\",\n        \"description\": \"\"\n      }\n    },\n    {\n      \"column\": \"ex_showroom_price\",\n      \"properties\": {\n        \"dtype\": \"number\",\n        \"std\": null,\n        \"min\": 1278000.0,\n        \"max\": 1278000.0,\n        \"num_unique_values\": 1,\n        \"samples\": [\n          1278000.0\n        ],\n        \"semantic_type\": \"\",\n        \"description\": \"\"\n      }\n    }\n  ]\n}"
            }
          },
          "metadata": {},
          "execution_count": 22
        }
      ]
    },
    {
      "cell_type": "markdown",
      "source": [
        "## 9. What is the total number of bikes listed by each seller type?"
      ],
      "metadata": {
        "id": "-_CZpGIBHjiI"
      }
    },
    {
      "cell_type": "code",
      "source": [
        "df_bike.columns"
      ],
      "metadata": {
        "colab": {
          "base_uri": "https://localhost:8080/"
        },
        "id": "cDqCkS7sHTo1",
        "outputId": "855472eb-fcdd-4d1d-b809-f0a7f62ff6f1"
      },
      "execution_count": null,
      "outputs": [
        {
          "output_type": "execute_result",
          "data": {
            "text/plain": [
              "Index(['name', 'selling_price', 'year', 'seller_type', 'owner', 'km_driven',\n",
              "       'ex_showroom_price'],\n",
              "      dtype='object')"
            ]
          },
          "metadata": {},
          "execution_count": 23
        }
      ]
    },
    {
      "cell_type": "code",
      "source": [
        "# method-1\n",
        "df_bike.groupby('seller_type')['name'].count()"
      ],
      "metadata": {
        "colab": {
          "base_uri": "https://localhost:8080/",
          "height": 178
        },
        "id": "fIAs6nMiHqa9",
        "outputId": "077b0b30-f8e4-4405-c93e-4559300e3470"
      },
      "execution_count": null,
      "outputs": [
        {
          "output_type": "execute_result",
          "data": {
            "text/plain": [
              "seller_type\n",
              "Dealer           6\n",
              "Individual    1055\n",
              "Name: name, dtype: int64"
            ],
            "text/html": [
              "<div>\n",
              "<style scoped>\n",
              "    .dataframe tbody tr th:only-of-type {\n",
              "        vertical-align: middle;\n",
              "    }\n",
              "\n",
              "    .dataframe tbody tr th {\n",
              "        vertical-align: top;\n",
              "    }\n",
              "\n",
              "    .dataframe thead th {\n",
              "        text-align: right;\n",
              "    }\n",
              "</style>\n",
              "<table border=\"1\" class=\"dataframe\">\n",
              "  <thead>\n",
              "    <tr style=\"text-align: right;\">\n",
              "      <th></th>\n",
              "      <th>name</th>\n",
              "    </tr>\n",
              "    <tr>\n",
              "      <th>seller_type</th>\n",
              "      <th></th>\n",
              "    </tr>\n",
              "  </thead>\n",
              "  <tbody>\n",
              "    <tr>\n",
              "      <th>Dealer</th>\n",
              "      <td>6</td>\n",
              "    </tr>\n",
              "    <tr>\n",
              "      <th>Individual</th>\n",
              "      <td>1055</td>\n",
              "    </tr>\n",
              "  </tbody>\n",
              "</table>\n",
              "</div><br><label><b>dtype:</b> int64</label>"
            ]
          },
          "metadata": {},
          "execution_count": 24
        }
      ]
    },
    {
      "cell_type": "code",
      "source": [
        "# method-2\n",
        "df_bike['seller_type'].value_counts()"
      ],
      "metadata": {
        "colab": {
          "base_uri": "https://localhost:8080/",
          "height": 178
        },
        "id": "2Etw-kajH0dW",
        "outputId": "2b2a5fc1-d09e-4fcb-af60-015c2301311c"
      },
      "execution_count": null,
      "outputs": [
        {
          "output_type": "execute_result",
          "data": {
            "text/plain": [
              "seller_type\n",
              "Individual    1055\n",
              "Dealer           6\n",
              "Name: count, dtype: int64"
            ],
            "text/html": [
              "<div>\n",
              "<style scoped>\n",
              "    .dataframe tbody tr th:only-of-type {\n",
              "        vertical-align: middle;\n",
              "    }\n",
              "\n",
              "    .dataframe tbody tr th {\n",
              "        vertical-align: top;\n",
              "    }\n",
              "\n",
              "    .dataframe thead th {\n",
              "        text-align: right;\n",
              "    }\n",
              "</style>\n",
              "<table border=\"1\" class=\"dataframe\">\n",
              "  <thead>\n",
              "    <tr style=\"text-align: right;\">\n",
              "      <th></th>\n",
              "      <th>count</th>\n",
              "    </tr>\n",
              "    <tr>\n",
              "      <th>seller_type</th>\n",
              "      <th></th>\n",
              "    </tr>\n",
              "  </thead>\n",
              "  <tbody>\n",
              "    <tr>\n",
              "      <th>Individual</th>\n",
              "      <td>1055</td>\n",
              "    </tr>\n",
              "    <tr>\n",
              "      <th>Dealer</th>\n",
              "      <td>6</td>\n",
              "    </tr>\n",
              "  </tbody>\n",
              "</table>\n",
              "</div><br><label><b>dtype:</b> int64</label>"
            ]
          },
          "metadata": {},
          "execution_count": 25
        }
      ]
    },
    {
      "cell_type": "markdown",
      "source": [
        "## 10. What is the relationship between selling_price and km_driven for first-owner bikes?"
      ],
      "metadata": {
        "id": "SCPwxzEPIU0K"
      }
    },
    {
      "cell_type": "code",
      "source": [
        "first_owner_df = df_bike[df_bike['owner']=='1st owner']"
      ],
      "metadata": {
        "id": "T1XwJ4jaIDYC"
      },
      "execution_count": null,
      "outputs": []
    },
    {
      "cell_type": "code",
      "source": [
        "plt.figure(figsize=(17, 15))\n",
        "sns.relplot(x='selling_price', y='km_driven', data=first_owner_df, kind='scatter')\n",
        "plt.xticks(rotation=45)\n",
        "plt.show()"
      ],
      "metadata": {
        "colab": {
          "base_uri": "https://localhost:8080/",
          "height": 557
        },
        "id": "ERGA6XsLIqLq",
        "outputId": "50b7fa46-b45a-4955-8517-4ac6d3c5133d"
      },
      "execution_count": null,
      "outputs": [
        {
          "output_type": "display_data",
          "data": {
            "text/plain": [
              "<Figure size 1700x1500 with 0 Axes>"
            ]
          },
          "metadata": {}
        },
        {
          "output_type": "display_data",
          "data": {
            "text/plain": [
              "<Figure size 500x500 with 1 Axes>"
            ],
            "image/png": "[encoded data removed]"
          },
          "metadata": {}
        }
      ]
    },
    {
      "cell_type": "code",
      "source": [
        "np.corrcoef(first_owner_df['selling_price'], first_owner_df['km_driven'])"
      ],
      "metadata": {
        "colab": {
          "base_uri": "https://localhost:8080/"
        },
        "id": "vHRyzudGI5Us",
        "outputId": "f3edceb2-52bd-4fdc-bfda-e9c1bcd4a730"
      },
      "execution_count": null,
      "outputs": [
        {
          "output_type": "execute_result",
          "data": {
            "text/plain": [
              "array([[ 1.        , -0.24348175],\n",
              "       [-0.24348175,  1.        ]])"
            ]
          },
          "metadata": {},
          "execution_count": 28
        }
      ]
    },
    {
      "cell_type": "code",
      "source": [
        "sns.heatmap(np.corrcoef(first_owner_df['selling_price'], first_owner_df['km_driven']), annot=True)"
      ],
      "metadata": {
        "colab": {
          "base_uri": "https://localhost:8080/",
          "height": 452
        },
        "id": "ceGXqxhrKXEc",
        "outputId": "6399c8d5-36f3-400e-d7bf-c9d9c7f232af"
      },
      "execution_count": null,
      "outputs": [
        {
          "output_type": "execute_result",
          "data": {
            "text/plain": [
              "<Axes: >"
            ]
          },
          "metadata": {},
          "execution_count": 29
        },
        {
          "output_type": "display_data",
          "data": {
            "text/plain": [
              "<Figure size 640x480 with 2 Axes>"
            ],
            "image/png": "[encoded data removed]"
          },
          "metadata": {}
        }
      ]
    },
    {
      "cell_type": "code",
      "source": [
        "# -0.24 corr, So there is no linear relationship between these two columns.\n",
        "# selling price is low, if the bike has more km_driven"
      ],
      "metadata": {
        "id": "izMbmr7YJ-dB"
      },
      "execution_count": null,
      "outputs": []
    },
    {
      "cell_type": "markdown",
      "source": [
        "## 11. Identify and remove outliers in the km_driven column using the IQR method?"
      ],
      "metadata": {
        "id": "UjFx5tHjK9VI"
      }
    },
    {
      "cell_type": "code",
      "source": [
        "px.box(df['km_driven'])"
      ],
      "metadata": {
        "colab": {
          "base_uri": "https://localhost:8080/",
          "height": 542
        },
        "id": "uT7CbuKWK68U",
        "outputId": "3a2be219-95f4-47f3-e3aa-7d4cba6d521e"
      },
      "execution_count": null,
      "outputs": [
        {
          "output_type": "display_data",
          "data": {
            "text/html": [
              "<html>\n",
              "<head><meta charset=\"utf-8\" /></head>\n",
              "<body>\n",
              "    <div>            <script src=\"https://cdnjs.cloudflare.com/ajax/libs/mathjax/2.7.5/MathJax.js?config=TeX-AMS-MML_SVG\"></script><script type=\"text/javascript\">if (window.MathJax && window.MathJax.Hub && window.MathJax.Hub.Config) {window.MathJax.Hub.Config({SVG: {font: \"STIX-Web\"}});}</script>                <script type=\"text/javascript\">window.PlotlyConfig = {MathJaxConfig: 'local'};</script>\n",
              "        <script charset=\"utf-8\" src=\"https://cdn.plot.ly/plotly-2.35.2.min.js\"></script>                <div id=\"669124c7-3b23-4903-a5a9-32fdac9deb97\" class=\"plotly-graph-div\" style=\"height:525px; width:100%;\"></div>            <script type=\"text/javascript\">                                    window.PLOTLYENV=window.PLOTLYENV || {};                                    if (document.getElementById(\"669124c7-3b23-4903-a5a9-32fdac9deb97\")) {                    Plotly.newPlot(                        \"669124c7-3b23-4903-a5a9-32fdac9deb97\",                        [{\"alignmentgroup\":\"True\",\"hovertemplate\":\"variable=%{x}\\u003cbr\\u003evalue=%{y}\\u003cextra\\u003e\\u003c\\u002fextra\\u003e\",\"legendgroup\":\"\",\"marker\":{\"color\":\"#636efa\"},\"name\":\"\",\"notched\":false,\"offsetgroup\":\"\",\"orientation\":\"v\",\"showlegend\":false,\"x\":[\"km_driven\",\"km_driven\",\"km_driven\",\"km_driven\",\"km_driven\",\"km_driven\",\"km_driven\",\"km_driven\",\"km_driven\",\"km_driven\",\"km_driven\",\"km_driven\",\"km_driven\",\"km_driven\",\"km_driven\",\"km_driven\",\"km_driven\",\"km_driven\",\"km_driven\",\"km_driven\",\"km_driven\",\"km_driven\",\"km_driven\",\"km_driven\",\"km_driven\",\"km_driven\",\"km_driven\",\"km_driven\",\"km_driven\",\"km_driven\",\"km_driven\",\"km_driven\",\"km_driven\",\"km_driven\",\"km_driven\",\"km_driven\",\"km_driven\",\"km_driven\",\"km_driven\",\"km_driven\",\"km_driven\",\"km_driven\",\"km_driven\",\"km_driven\",\"km_driven\",\"km_driven\",\"km_driven\",\"km_driven\",\"km_driven\",\"km_driven\",\"km_driven\",\"km_driven\",\"km_driven\",\"km_driven\",\"km_driven\",\"km_driven\",\"km_driven\",\"km_driven\",\"km_driven\",\"km_driven\",\"km_driven\",\"km_driven\",\"km_driven\",\"km_driven\",\"km_driven\",\"km_driven\",\"km_driven\",\"km_driven\",\"km_driven\",\"km_driven\",\"km_driven\",\"km_driven\",\"km_driven\",\"km_driven\",\"km_driven\",\"km_driven\",\"km_driven\",\"km_driven\",\"km_driven\",\"km_driven\",\"km_driven\",\"km_driven\",\"km_driven\",\"km_driven\",\"km_driven\",\"km_driven\",\"km_driven\",\"km_driven\",\"km_driven\",\"km_driven\",\"km_driven\",\"km_driven\",\"km_driven\",\"km_driven\",\"km_driven\",\"km_driven\",\"km_driven\",\"km_driven\",\"km_driven\",\"km_driven\",\"km_driven\",\"km_driven\",\"km_driven\",\"km_driven\",\"km_driven\",\"km_driven\",\"km_driven\",\"km_driven\",\"km_driven\",\"km_driven\",\"km_driven\",\"km_driven\",\"km_driven\",\"km_driven\",\"km_driven\",\"km_driven\",\"km_driven\",\"km_driven\",\"km_driven\",\"km_driven\",\"km_driven\",\"km_driven\",\"km_driven\",\"km_driven\",\"km_driven\",\"km_driven\",\"km_driven\",\"km_driven\",\"km_driven\",\"km_driven\",\"km_driven\",\"km_driven\",\"km_driven\",\"km_driven\",\"km_driven\",\"km_driven\",\"km_driven\",\"km_driven\",\"km_driven\",\"km_driven\",\"km_driven\",\"km_driven\",\"km_driven\",\"km_driven\",\"km_driven\",\"km_driven\",\"km_driven\",\"km_driven\",\"km_driven\",\"km_driven\",\"km_driven\",\"km_driven\",\"km_driven\",\"km_driven\",\"km_driven\",\"km_driven\",\"km_driven\",\"km_driven\",\"km_driven\",\"km_driven\",\"km_driven\",\"km_driven\",\"km_driven\",\"km_driven\",\"km_driven\",\"km_driven\",\"km_driven\",\"km_driven\",\"km_driven\",\"km_driven\",\"km_driven\",\"km_driven\",\"km_driven\",\"km_driven\",\"km_driven\",\"km_driven\",\"km_driven\",\"km_driven\",\"km_driven\",\"km_driven\",\"km_driven\",\"km_driven\",\"km_driven\",\"km_driven\",\"km_driven\",\"km_driven\",\"km_driven\",\"km_driven\",\"km_driven\",\"km_driven\",\"km_driven\",\"km_driven\",\"km_driven\",\"km_driven\",\"km_driven\",\"km_driven\",\"km_driven\",\"km_driven\",\"km_driven\",\"km_driven\",\"km_driven\",\"km_driven\",\"km_driven\",\"km_driven\",\"km_driven\",\"km_driven\",\"km_driven\",\"km_driven\",\"km_driven\",\"km_driven\",\"km_driven\",\"km_driven\",\"km_driven\",\"km_driven\",\"km_driven\",\"km_driven\",\"km_driven\",\"km_driven\",\"km_driven\",\"km_driven\",\"km_driven\",\"km_driven\",\"km_driven\",\"km_driven\",\"km_driven\",\"km_driven\",\"km_driven\",\"km_driven\",\"km_driven\",\"km_driven\",\"km_driven\",\"km_driven\",\"km_driven\",\"km_driven\",\"km_driven\",\"km_driven\",\"km_driven\",\"km_driven\",\"km_driven\",\"km_driven\",\"km_driven\",\"km_driven\",\"km_driven\",\"km_driven\",\"km_driven\",\"km_driven\",\"km_driven\",\"km_driven\",\"km_driven\",\"km_driven\",\"km_driven\",\"km_driven\",\"km_driven\",\"km_driven\",\"km_driven\",\"km_driven\",\"km_driven\",\"km_driven\",\"km_driven\",\"km_driven\",\"km_driven\",\"km_driven\",\"km_driven\",\"km_driven\",\"km_driven\",\"km_driven\",\"km_driven\",\"km_driven\",\"km_driven\",\"km_driven\",\"km_driven\",\"km_driven\",\"km_driven\",\"km_driven\",\"km_driven\",\"km_driven\",\"km_driven\",\"km_driven\",\"km_driven\",\"km_driven\",\"km_driven\",\"km_driven\",\"km_driven\",\"km_driven\",\"km_driven\",\"km_driven\",\"km_driven\",\"km_driven\",\"km_driven\",\"km_driven\",\"km_driven\",\"km_driven\",\"km_driven\",\"km_driven\",\"km_driven\",\"km_driven\",\"km_driven\",\"km_driven\",\"km_driven\",\"km_driven\",\"km_driven\",\"km_driven\",\"km_driven\",\"km_driven\",\"km_driven\",\"km_driven\",\"km_driven\",\"km_driven\",\"km_driven\",\"km_driven\",\"km_driven\",\"km_driven\",\"km_driven\",\"km_driven\",\"km_driven\",\"km_driven\",\"km_driven\",\"km_driven\",\"km_driven\",\"km_driven\",\"km_driven\",\"km_driven\",\"km_driven\",\"km_driven\",\"km_driven\",\"km_driven\",\"km_driven\",\"km_driven\",\"km_driven\",\"km_driven\",\"km_driven\",\"km_driven\",\"km_driven\",\"km_driven\",\"km_driven\",\"km_driven\",\"km_driven\",\"km_driven\",\"km_driven\",\"km_driven\",\"km_driven\",\"km_driven\",\"km_driven\",\"km_driven\",\"km_driven\",\"km_driven\",\"km_driven\",\"km_driven\",\"km_driven\",\"km_driven\",\"km_driven\",\"km_driven\",\"km_driven\",\"km_driven\",\"km_driven\",\"km_driven\",\"km_driven\",\"km_driven\",\"km_driven\",\"km_driven\",\"km_driven\",\"km_driven\",\"km_driven\",\"km_driven\",\"km_driven\",\"km_driven\",\"km_driven\",\"km_driven\",\"km_driven\",\"km_driven\",\"km_driven\",\"km_driven\",\"km_driven\",\"km_driven\",\"km_driven\",\"km_driven\",\"km_driven\",\"km_driven\",\"km_driven\",\"km_driven\",\"km_driven\",\"km_driven\",\"km_driven\",\"km_driven\",\"km_driven\",\"km_driven\",\"km_driven\",\"km_driven\",\"km_driven\",\"km_driven\",\"km_driven\",\"km_driven\",\"km_driven\",\"km_driven\",\"km_driven\",\"km_driven\",\"km_driven\",\"km_driven\",\"km_driven\",\"km_driven\",\"km_driven\",\"km_driven\",\"km_driven\",\"km_driven\",\"km_driven\",\"km_driven\",\"km_driven\",\"km_driven\",\"km_driven\",\"km_driven\",\"km_driven\",\"km_driven\",\"km_driven\",\"km_driven\",\"km_driven\",\"km_driven\",\"km_driven\",\"km_driven\",\"km_driven\",\"km_driven\",\"km_driven\",\"km_driven\",\"km_driven\",\"km_driven\",\"km_driven\",\"km_driven\",\"km_driven\",\"km_driven\",\"km_driven\",\"km_driven\",\"km_driven\",\"km_driven\",\"km_driven\",\"km_driven\",\"km_driven\",\"km_driven\",\"km_driven\",\"km_driven\",\"km_driven\",\"km_driven\",\"km_driven\",\"km_driven\",\"km_driven\",\"km_driven\",\"km_driven\",\"km_driven\",\"km_driven\",\"km_driven\",\"km_driven\",\"km_driven\",\"km_driven\",\"km_driven\",\"km_driven\",\"km_driven\",\"km_driven\",\"km_driven\",\"km_driven\",\"km_driven\",\"km_driven\",\"km_driven\",\"km_driven\",\"km_driven\",\"km_driven\",\"km_driven\",\"km_driven\",\"km_driven\",\"km_driven\",\"km_driven\",\"km_driven\",\"km_driven\",\"km_driven\",\"km_driven\",\"km_driven\",\"km_driven\",\"km_driven\",\"km_driven\",\"km_driven\",\"km_driven\",\"km_driven\",\"km_driven\",\"km_driven\",\"km_driven\",\"km_driven\",\"km_driven\",\"km_driven\",\"km_driven\",\"km_driven\",\"km_driven\",\"km_driven\",\"km_driven\",\"km_driven\",\"km_driven\",\"km_driven\",\"km_driven\",\"km_driven\",\"km_driven\",\"km_driven\",\"km_driven\",\"km_driven\",\"km_driven\",\"km_driven\",\"km_driven\",\"km_driven\",\"km_driven\",\"km_driven\",\"km_driven\",\"km_driven\",\"km_driven\",\"km_driven\",\"km_driven\",\"km_driven\",\"km_driven\",\"km_driven\",\"km_driven\",\"km_driven\",\"km_driven\",\"km_driven\",\"km_driven\",\"km_driven\",\"km_driven\",\"km_driven\",\"km_driven\",\"km_driven\",\"km_driven\",\"km_driven\",\"km_driven\",\"km_driven\",\"km_driven\",\"km_driven\",\"km_driven\",\"km_driven\",\"km_driven\",\"km_driven\",\"km_driven\",\"km_driven\",\"km_driven\",\"km_driven\",\"km_driven\",\"km_driven\",\"km_driven\",\"km_driven\",\"km_driven\",\"km_driven\",\"km_driven\",\"km_driven\",\"km_driven\",\"km_driven\",\"km_driven\",\"km_driven\",\"km_driven\",\"km_driven\",\"km_driven\",\"km_driven\",\"km_driven\",\"km_driven\",\"km_driven\",\"km_driven\",\"km_driven\",\"km_driven\",\"km_driven\",\"km_driven\",\"km_driven\",\"km_driven\",\"km_driven\",\"km_driven\",\"km_driven\",\"km_driven\",\"km_driven\",\"km_driven\",\"km_driven\",\"km_driven\",\"km_driven\",\"km_driven\",\"km_driven\",\"km_driven\",\"km_driven\",\"km_driven\",\"km_driven\",\"km_driven\",\"km_driven\",\"km_driven\",\"km_driven\",\"km_driven\",\"km_driven\",\"km_driven\",\"km_driven\",\"km_driven\",\"km_driven\",\"km_driven\",\"km_driven\",\"km_driven\",\"km_driven\",\"km_driven\",\"km_driven\",\"km_driven\",\"km_driven\",\"km_driven\",\"km_driven\",\"km_driven\",\"km_driven\",\"km_driven\",\"km_driven\",\"km_driven\",\"km_driven\",\"km_driven\",\"km_driven\",\"km_driven\",\"km_driven\",\"km_driven\",\"km_driven\",\"km_driven\",\"km_driven\",\"km_driven\",\"km_driven\",\"km_driven\",\"km_driven\",\"km_driven\",\"km_driven\",\"km_driven\",\"km_driven\",\"km_driven\",\"km_driven\",\"km_driven\",\"km_driven\",\"km_driven\",\"km_driven\",\"km_driven\",\"km_driven\",\"km_driven\",\"km_driven\",\"km_driven\",\"km_driven\",\"km_driven\",\"km_driven\",\"km_driven\",\"km_driven\",\"km_driven\",\"km_driven\",\"km_driven\",\"km_driven\",\"km_driven\",\"km_driven\",\"km_driven\",\"km_driven\",\"km_driven\",\"km_driven\",\"km_driven\",\"km_driven\",\"km_driven\",\"km_driven\",\"km_driven\",\"km_driven\",\"km_driven\",\"km_driven\",\"km_driven\",\"km_driven\",\"km_driven\",\"km_driven\",\"km_driven\",\"km_driven\",\"km_driven\",\"km_driven\",\"km_driven\",\"km_driven\",\"km_driven\",\"km_driven\",\"km_driven\",\"km_driven\",\"km_driven\",\"km_driven\",\"km_driven\",\"km_driven\",\"km_driven\",\"km_driven\",\"km_driven\",\"km_driven\",\"km_driven\",\"km_driven\",\"km_driven\",\"km_driven\",\"km_driven\",\"km_driven\",\"km_driven\",\"km_driven\",\"km_driven\",\"km_driven\",\"km_driven\",\"km_driven\",\"km_driven\",\"km_driven\",\"km_driven\",\"km_driven\",\"km_driven\",\"km_driven\",\"km_driven\",\"km_driven\",\"km_driven\",\"km_driven\",\"km_driven\",\"km_driven\",\"km_driven\",\"km_driven\",\"km_driven\",\"km_driven\",\"km_driven\",\"km_driven\",\"km_driven\",\"km_driven\",\"km_driven\",\"km_driven\",\"km_driven\",\"km_driven\",\"km_driven\",\"km_driven\",\"km_driven\",\"km_driven\",\"km_driven\",\"km_driven\",\"km_driven\",\"km_driven\",\"km_driven\",\"km_driven\",\"km_driven\",\"km_driven\",\"km_driven\",\"km_driven\",\"km_driven\",\"km_driven\",\"km_driven\",\"km_driven\",\"km_driven\",\"km_driven\",\"km_driven\",\"km_driven\",\"km_driven\",\"km_driven\",\"km_driven\",\"km_driven\",\"km_driven\",\"km_driven\",\"km_driven\",\"km_driven\",\"km_driven\",\"km_driven\",\"km_driven\",\"km_driven\",\"km_driven\",\"km_driven\",\"km_driven\",\"km_driven\",\"km_driven\",\"km_driven\",\"km_driven\",\"km_driven\",\"km_driven\",\"km_driven\",\"km_driven\",\"km_driven\",\"km_driven\",\"km_driven\",\"km_driven\",\"km_driven\",\"km_driven\",\"km_driven\",\"km_driven\",\"km_driven\",\"km_driven\",\"km_driven\",\"km_driven\",\"km_driven\",\"km_driven\",\"km_driven\",\"km_driven\",\"km_driven\",\"km_driven\",\"km_driven\",\"km_driven\",\"km_driven\",\"km_driven\",\"km_driven\",\"km_driven\",\"km_driven\",\"km_driven\",\"km_driven\",\"km_driven\",\"km_driven\",\"km_driven\",\"km_driven\",\"km_driven\",\"km_driven\",\"km_driven\",\"km_driven\",\"km_driven\",\"km_driven\",\"km_driven\",\"km_driven\",\"km_driven\",\"km_driven\",\"km_driven\",\"km_driven\",\"km_driven\",\"km_driven\",\"km_driven\",\"km_driven\",\"km_driven\",\"km_driven\",\"km_driven\",\"km_driven\",\"km_driven\",\"km_driven\",\"km_driven\",\"km_driven\",\"km_driven\",\"km_driven\",\"km_driven\",\"km_driven\",\"km_driven\",\"km_driven\",\"km_driven\",\"km_driven\",\"km_driven\",\"km_driven\",\"km_driven\",\"km_driven\",\"km_driven\",\"km_driven\",\"km_driven\",\"km_driven\",\"km_driven\",\"km_driven\",\"km_driven\",\"km_driven\",\"km_driven\",\"km_driven\",\"km_driven\",\"km_driven\",\"km_driven\",\"km_driven\",\"km_driven\",\"km_driven\",\"km_driven\",\"km_driven\",\"km_driven\",\"km_driven\",\"km_driven\",\"km_driven\",\"km_driven\",\"km_driven\",\"km_driven\",\"km_driven\",\"km_driven\",\"km_driven\",\"km_driven\",\"km_driven\",\"km_driven\",\"km_driven\",\"km_driven\",\"km_driven\",\"km_driven\",\"km_driven\",\"km_driven\",\"km_driven\",\"km_driven\",\"km_driven\",\"km_driven\",\"km_driven\",\"km_driven\",\"km_driven\",\"km_driven\",\"km_driven\",\"km_driven\",\"km_driven\",\"km_driven\",\"km_driven\",\"km_driven\",\"km_driven\",\"km_driven\",\"km_driven\",\"km_driven\",\"km_driven\",\"km_driven\",\"km_driven\",\"km_driven\",\"km_driven\",\"km_driven\",\"km_driven\",\"km_driven\",\"km_driven\",\"km_driven\",\"km_driven\",\"km_driven\",\"km_driven\",\"km_driven\",\"km_driven\",\"km_driven\",\"km_driven\",\"km_driven\",\"km_driven\",\"km_driven\",\"km_driven\",\"km_driven\",\"km_driven\",\"km_driven\",\"km_driven\",\"km_driven\",\"km_driven\",\"km_driven\",\"km_driven\",\"km_driven\",\"km_driven\",\"km_driven\",\"km_driven\",\"km_driven\",\"km_driven\",\"km_driven\",\"km_driven\",\"km_driven\",\"km_driven\",\"km_driven\",\"km_driven\",\"km_driven\",\"km_driven\",\"km_driven\",\"km_driven\",\"km_driven\",\"km_driven\",\"km_driven\",\"km_driven\",\"km_driven\",\"km_driven\",\"km_driven\",\"km_driven\",\"km_driven\",\"km_driven\",\"km_driven\",\"km_driven\",\"km_driven\",\"km_driven\",\"km_driven\",\"km_driven\",\"km_driven\",\"km_driven\",\"km_driven\",\"km_driven\",\"km_driven\",\"km_driven\",\"km_driven\",\"km_driven\",\"km_driven\",\"km_driven\",\"km_driven\",\"km_driven\",\"km_driven\",\"km_driven\",\"km_driven\",\"km_driven\",\"km_driven\",\"km_driven\",\"km_driven\",\"km_driven\",\"km_driven\",\"km_driven\",\"km_driven\",\"km_driven\",\"km_driven\",\"km_driven\",\"km_driven\",\"km_driven\",\"km_driven\",\"km_driven\",\"km_driven\",\"km_driven\",\"km_driven\",\"km_driven\",\"km_driven\",\"km_driven\",\"km_driven\",\"km_driven\",\"km_driven\",\"km_driven\",\"km_driven\",\"km_driven\",\"km_driven\",\"km_driven\",\"km_driven\",\"km_driven\",\"km_driven\",\"km_driven\",\"km_driven\",\"km_driven\",\"km_driven\",\"km_driven\",\"km_driven\",\"km_driven\",\"km_driven\",\"km_driven\",\"km_driven\",\"km_driven\",\"km_driven\",\"km_driven\",\"km_driven\",\"km_driven\",\"km_driven\",\"km_driven\",\"km_driven\",\"km_driven\",\"km_driven\",\"km_driven\",\"km_driven\",\"km_driven\",\"km_driven\",\"km_driven\",\"km_driven\",\"km_driven\",\"km_driven\",\"km_driven\",\"km_driven\",\"km_driven\",\"km_driven\",\"km_driven\",\"km_driven\",\"km_driven\",\"km_driven\",\"km_driven\",\"km_driven\",\"km_driven\",\"km_driven\",\"km_driven\",\"km_driven\",\"km_driven\",\"km_driven\",\"km_driven\",\"km_driven\",\"km_driven\",\"km_driven\",\"km_driven\",\"km_driven\",\"km_driven\",\"km_driven\",\"km_driven\",\"km_driven\",\"km_driven\",\"km_driven\",\"km_driven\",\"km_driven\",\"km_driven\",\"km_driven\",\"km_driven\",\"km_driven\",\"km_driven\",\"km_driven\",\"km_driven\",\"km_driven\",\"km_driven\",\"km_driven\",\"km_driven\",\"km_driven\",\"km_driven\",\"km_driven\",\"km_driven\",\"km_driven\"],\"x0\":\" \",\"xaxis\":\"x\",\"y\":[350,5650,12000,23000,21000,60000,17000,39000,32000,42000,32000,10000,21178,1127,1700,55000,27000,45000,23000,39000,60000,17450,20696,2000,20000,35000,15210,24000,35000,10000,2500,75000,50000,27000,10000,6502,21000,16000,42000,13000,12800,20000,4600,81000,8000,55000,57000,26000,13000,29000,43000,40000,40000,24000,3000,75000,42000,13000,55000,23000,24000,80000,39000,20000,30000,21000,41000,8000,50000,8150,1933,55750,15856,27000,3700,21938,48000,16000,54000,35000,15000,32000,3500,9000,38000,50000,20000,22000,9432,70000,43000,500000,30514,130000,45000,25000,2500,22770,30000,35000,6330,500,43400,7004,16500,12500,9600,35000,11000,20000,13000,3500,9000,7500,38000,120000,6465,18803,20000,24000,22000,7000,6100,14000,23000,85000,40000,18000,10000,40000,1500,30000,3000,55000,12000,90000,500,50000,25000,36500,26000,18000,49000,18000,15000,8500,3775,14500,35000,14000,16000,7000,4000,45000,99000,52000,45000,52000,27000,60000,2300,15000,50000,27000,25000,40000,32000,50000,36000,17450,32000,38000,71000,8000,12000,50000,30000,15888,26000,5600,41000,19612,17000,33700,100000,6000,21000,80000,15000,46000,11000,72000,50000,50000,67000,30000,48000,48000,8000,15500,45000,60855,37714,60000,26000,6000,30000,17000,34601,48000,60000,44000,55000,16000,20000,17500,46000,30000,6500,80000,10000,2200,40000,21000,3500,66191,50000,32800,32000,3900,10000,9600,46782,8000,11000,51000,45000,66000,50000,23500,25000,41000,12000,33000,15000,50000,40000,50000,20000,50000,55000,70350,2700,20000,20000,41311,65000,34000,20000,11000,75000,1200,19000,30000,23000,10000,40000,8600,45000,7200,31195,18000,1000,17000,46000,77592,54000,17000,60000,40000,25000,19000,40000,51000,7600,14965,25000,6000,2380,13600,10000,21000,10000,18600,7750,2800,30000,9800,25000,29689,43000,28243,25000,22300,33595,5505,5000,30000,16000,22000,40000,6500,15000,17365,40000,5500,33900,47670,45000,5000,5700,22866,10000,31000,1600,44000,70000,21000,17365,80000,15000,77000,40000,48000,18000,20000,9000,56000,50000,12000,11500,20000,20000,27000,2500,20477,35700,70000,29000,14500,37000,3246,27000,15000,15000,4050,25000,5000,5000,14000,36500,9000,33200,646000,25000,26000,3909,7672,3000,3654,40000,5500,29950,14000,26100,6000,4000,50000,5475,40000,20500,4100,23097,37734,65000,8000,13500,23000,58000,15000,29000,20000,35000,45137,7500,35600,15000,7353,13200,38350,20400,14500,19500,20000,36000,4500,38000,9000,40000,25000,70889,13125,19600,40000,19055,57000,13000,28087,24000,24600,27500,45000,61000,7000,6400,3500,14000,6409,44000,16500,36000,30000,15000,14500,26600,32000,3500,58203,21885,3200,40000,28000,3500,24000,1800,76000,52500,17500,41000,2845,50000,7110,27785,75000,20000,20000,60000,20000,18000,16500,15000,45000,37000,14600,51000,15000,12000,15000,21000,65000,95000,23000,40000,49637,90000,7000,5326,585659,10000,37541,36000,29000,29000,50000,18000,50000,40000,20000,22000,4500,50000,42000,35000,25000,34000,60000,73000,38000,26000,24000,45000,36000,30000,16295,59000,9500,46000,75000,80000,26000,26000,100000,2900,25000,39500,40000,16000,21000,14000,7000,22000,50000,16295,35000,9000,35000,60000,29500,50000,10500,60000,39000,24000,15000,3000,100000,20350,50000,37000,70000,15000,28563,11000,60000,21121,25000,13000,55000,100000,36000,34000,12000,29000,30000,16500,33000,11800,39000,16145,1000,50000,49876,51000,1300,11000,55000,20000,35000,60000,40000,46000,65000,19000,26000,86000,340000,40000,10000,25000,10000,24000,35000,30000,6500,10000,28000,35000,20000,5500,36000,25000,30000,101000,21000,57700,44000,8800,68000,120000,24000,38000,40000,48000,14000,18000,38000,75000,35000,25000,20000,100000,6400,52000,16000,8200,60000,16000,47000,18000,50000,6000,20000,65000,25000,23000,5555,38000,6000,45000,27000,98000,16000,50000,71250,28000,50000,82000,6409,54000,20000,50000,52000,880000,23000,35000,49000,55000,15100,38000,12652,7000,13800,28000,20000,16008,36000,36000,380,50000,30000,35000,14500,15000,54000,11000,43000,15000,40000,93000,24000,14000,29442,20000,30000,38000,18000,14000,13000,42000,27000,4000,1200,7500,15000,70000,12657,69000,100000,18000,80000,11200,17000,56420,82000,10000,100000,18345,20000,48000,14000,4100,50000,3025,60000,6000,35000,50000,10000,7000,34000,20000,38000,100000,20000,240000,45354,100000,32000,14000,70000,13500,75000,75000,52000,18860,2700,100000,38500,10500,35000,17000,2900,30000,14000,10000,9556,37000,2700,36000,52000,46000,12000,6500,14100,40000,75000,10000,29625,35000,32000,20000,70000,57000,11000,17500,7000,17500,25000,53500,15000,8000,39448,75000,28000,62000,12000,49999,70000,25000,20000,4500,45000,68000,95000,16000,5000,36000,70000,27370,8600,49000,16000,100000,10000,30000,7000,68000,20000,25000,8900,70000,40000,8500,32000,55000,75000,65000,345000,21000,60000,38000,40000,40000,25000,25000,25000,3000,28000,40000,8500,30000,20000,30000,12566,17000,17000,35000,40000,1400,37000,15000,46000,75000,14289,20000,28000,19000,28450,31500,28000,100000,16000,17860,24000,10950,35850,29000,4000,45420,35000,19800,23000,35000,7500,20000,72000,7000,6000,34300,7199,43000,8000,9999,80000,30000,12000,17500,45000,38000,19800,12000,10000,85000,70000,2009,1500,12077,20000,20000,40000,12000,27000,93000,12000,36000,11000,26000,450000,29000,45000,13000,48000,5814,31000,25000,28000,11000,7850,10000,40000,5000,14000,7500,25000,46700,12000,6000,9800,46070,14500,70000,100000,30000,127000,63000,30000,10000,10000,89000,50000,15500,66000,80000,8600,40000,25000,34500,15500,28000,40000,40000,50000,24000,50000,55000,70000,12000,70000,16000,38000,100000,45000,28990,13000,15000,60000,22000,19500,25000,70000,65000,86000,30000,33000,36000,41000,28000,15000,35280,18000,28000,40000,17000,23000,30000,6000,48000,16000,50000,60000,3000,1400,4000,1200,4100,21700,16500,15000,18000,11000,6000,8700,7000,35000,17000,17500,33000,14000,26000,5400,5700,6900,6000,46500,11500,40000,1300,7000,3000,5000,11000,18000,3500,500,11800,5000,23500,16000,15000,16600,32000,20000,29000,25000,25000,19000,15000,58000,45000,24000,6000,31000,13000,45000,8000,4300,15000,23000,8600,4000,24000,23000,14500,27000,14000,500,1000,42000,12000,14000,5500,6700,13700,1300,38600,75000,30000,24000,19000,213000,60000,50000,30000,21000,26000,1900,22000,32000,18000,55000,60000,25000,49000,24000,50000,35000,500000,33000,35000,53000,92233],\"y0\":\" \",\"yaxis\":\"y\",\"type\":\"box\"}],                        {\"template\":{\"data\":{\"histogram2dcontour\":[{\"type\":\"histogram2dcontour\",\"colorbar\":{\"outlinewidth\":0,\"ticks\":\"\"},\"colorscale\":[[0.0,\"#0d0887\"],[0.1111111111111111,\"#46039f\"],[0.2222222222222222,\"#7201a8\"],[0.3333333333333333,\"#9c179e\"],[0.4444444444444444,\"#bd3786\"],[0.5555555555555556,\"#d8576b\"],[0.6666666666666666,\"#ed7953\"],[0.7777777777777778,\"#fb9f3a\"],[0.8888888888888888,\"#fdca26\"],[1.0,\"#f0f921\"]]}],\"choropleth\":[{\"type\":\"choropleth\",\"colorbar\":{\"outlinewidth\":0,\"ticks\":\"\"}}],\"histogram2d\":[{\"type\":\"histogram2d\",\"colorbar\":{\"outlinewidth\":0,\"ticks\":\"\"},\"colorscale\":[[0.0,\"#0d0887\"],[0.1111111111111111,\"#46039f\"],[0.2222222222222222,\"#7201a8\"],[0.3333333333333333,\"#9c179e\"],[0.4444444444444444,\"#bd3786\"],[0.5555555555555556,\"#d8576b\"],[0.6666666666666666,\"#ed7953\"],[0.7777777777777778,\"#fb9f3a\"],[0.8888888888888888,\"#fdca26\"],[1.0,\"#f0f921\"]]}],\"heatmap\":[{\"type\":\"heatmap\",\"colorbar\":{\"outlinewidth\":0,\"ticks\":\"\"},\"colorscale\":[[0.0,\"#0d0887\"],[0.1111111111111111,\"#46039f\"],[0.2222222222222222,\"#7201a8\"],[0.3333333333333333,\"#9c179e\"],[0.4444444444444444,\"#bd3786\"],[0.5555555555555556,\"#d8576b\"],[0.6666666666666666,\"#ed7953\"],[0.7777777777777778,\"#fb9f3a\"],[0.8888888888888888,\"#fdca26\"],[1.0,\"#f0f921\"]]}],\"heatmapgl\":[{\"type\":\"heatmapgl\",\"colorbar\":{\"outlinewidth\":0,\"ticks\":\"\"},\"colorscale\":[[0.0,\"#0d0887\"],[0.1111111111111111,\"#46039f\"],[0.2222222222222222,\"#7201a8\"],[0.3333333333333333,\"#9c179e\"],[0.4444444444444444,\"#bd3786\"],[0.5555555555555556,\"#d8576b\"],[0.6666666666666666,\"#ed7953\"],[0.7777777777777778,\"#fb9f3a\"],[0.8888888888888888,\"#fdca26\"],[1.0,\"#f0f921\"]]}],\"contourcarpet\":[{\"type\":\"contourcarpet\",\"colorbar\":{\"outlinewidth\":0,\"ticks\":\"\"}}],\"contour\":[{\"type\":\"contour\",\"colorbar\":{\"outlinewidth\":0,\"ticks\":\"\"},\"colorscale\":[[0.0,\"#0d0887\"],[0.1111111111111111,\"#46039f\"],[0.2222222222222222,\"#7201a8\"],[0.3333333333333333,\"#9c179e\"],[0.4444444444444444,\"#bd3786\"],[0.5555555555555556,\"#d8576b\"],[0.6666666666666666,\"#ed7953\"],[0.7777777777777778,\"#fb9f3a\"],[0.8888888888888888,\"#fdca26\"],[1.0,\"#f0f921\"]]}],\"surface\":[{\"type\":\"surface\",\"colorbar\":{\"outlinewidth\":0,\"ticks\":\"\"},\"colorscale\":[[0.0,\"#0d0887\"],[0.1111111111111111,\"#46039f\"],[0.2222222222222222,\"#7201a8\"],[0.3333333333333333,\"#9c179e\"],[0.4444444444444444,\"#bd3786\"],[0.5555555555555556,\"#d8576b\"],[0.6666666666666666,\"#ed7953\"],[0.7777777777777778,\"#fb9f3a\"],[0.8888888888888888,\"#fdca26\"],[1.0,\"#f0f921\"]]}],\"mesh3d\":[{\"type\":\"mesh3d\",\"colorbar\":{\"outlinewidth\":0,\"ticks\":\"\"}}],\"scatter\":[{\"fillpattern\":{\"fillmode\":\"overlay\",\"size\":10,\"solidity\":0.2},\"type\":\"scatter\"}],\"parcoords\":[{\"type\":\"parcoords\",\"line\":{\"colorbar\":{\"outlinewidth\":0,\"ticks\":\"\"}}}],\"scatterpolargl\":[{\"type\":\"scatterpolargl\",\"marker\":{\"colorbar\":{\"outlinewidth\":0,\"ticks\":\"\"}}}],\"bar\":[{\"error_x\":{\"color\":\"#2a3f5f\"},\"error_y\":{\"color\":\"#2a3f5f\"},\"marker\":{\"line\":{\"color\":\"#E5ECF6\",\"width\":0.5},\"pattern\":{\"fillmode\":\"overlay\",\"size\":10,\"solidity\":0.2}},\"type\":\"bar\"}],\"scattergeo\":[{\"type\":\"scattergeo\",\"marker\":{\"colorbar\":{\"outlinewidth\":0,\"ticks\":\"\"}}}],\"scatterpolar\":[{\"type\":\"scatterpolar\",\"marker\":{\"colorbar\":{\"outlinewidth\":0,\"ticks\":\"\"}}}],\"histogram\":[{\"marker\":{\"pattern\":{\"fillmode\":\"overlay\",\"size\":10,\"solidity\":0.2}},\"type\":\"histogram\"}],\"scattergl\":[{\"type\":\"scattergl\",\"marker\":{\"colorbar\":{\"outlinewidth\":0,\"ticks\":\"\"}}}],\"scatter3d\":[{\"type\":\"scatter3d\",\"line\":{\"colorbar\":{\"outlinewidth\":0,\"ticks\":\"\"}},\"marker\":{\"colorbar\":{\"outlinewidth\":0,\"ticks\":\"\"}}}],\"scattermapbox\":[{\"type\":\"scattermapbox\",\"marker\":{\"colorbar\":{\"outlinewidth\":0,\"ticks\":\"\"}}}],\"scatterternary\":[{\"type\":\"scatterternary\",\"marker\":{\"colorbar\":{\"outlinewidth\":0,\"ticks\":\"\"}}}],\"scattercarpet\":[{\"type\":\"scattercarpet\",\"marker\":{\"colorbar\":{\"outlinewidth\":0,\"ticks\":\"\"}}}],\"carpet\":[{\"aaxis\":{\"endlinecolor\":\"#2a3f5f\",\"gridcolor\":\"white\",\"linecolor\":\"white\",\"minorgridcolor\":\"white\",\"startlinecolor\":\"#2a3f5f\"},\"baxis\":{\"endlinecolor\":\"#2a3f5f\",\"gridcolor\":\"white\",\"linecolor\":\"white\",\"minorgridcolor\":\"white\",\"startlinecolor\":\"#2a3f5f\"},\"type\":\"carpet\"}],\"table\":[{\"cells\":{\"fill\":{\"color\":\"#EBF0F8\"},\"line\":{\"color\":\"white\"}},\"header\":{\"fill\":{\"color\":\"#C8D4E3\"},\"line\":{\"color\":\"white\"}},\"type\":\"table\"}],\"barpolar\":[{\"marker\":{\"line\":{\"color\":\"#E5ECF6\",\"width\":0.5},\"pattern\":{\"fillmode\":\"overlay\",\"size\":10,\"solidity\":0.2}},\"type\":\"barpolar\"}],\"pie\":[{\"automargin\":true,\"type\":\"pie\"}]},\"layout\":{\"autotypenumbers\":\"strict\",\"colorway\":[\"#636efa\",\"#EF553B\",\"#00cc96\",\"#ab63fa\",\"#FFA15A\",\"#19d3f3\",\"#FF6692\",\"#B6E880\",\"#FF97FF\",\"#FECB52\"],\"font\":{\"color\":\"#2a3f5f\"},\"hovermode\":\"closest\",\"hoverlabel\":{\"align\":\"left\"},\"paper_bgcolor\":\"white\",\"plot_bgcolor\":\"#E5ECF6\",\"polar\":{\"bgcolor\":\"#E5ECF6\",\"angularaxis\":{\"gridcolor\":\"white\",\"linecolor\":\"white\",\"ticks\":\"\"},\"radialaxis\":{\"gridcolor\":\"white\",\"linecolor\":\"white\",\"ticks\":\"\"}},\"ternary\":{\"bgcolor\":\"#E5ECF6\",\"aaxis\":{\"gridcolor\":\"white\",\"linecolor\":\"white\",\"ticks\":\"\"},\"baxis\":{\"gridcolor\":\"white\",\"linecolor\":\"white\",\"ticks\":\"\"},\"caxis\":{\"gridcolor\":\"white\",\"linecolor\":\"white\",\"ticks\":\"\"}},\"coloraxis\":{\"colorbar\":{\"outlinewidth\":0,\"ticks\":\"\"}},\"colorscale\":{\"sequential\":[[0.0,\"#0d0887\"],[0.1111111111111111,\"#46039f\"],[0.2222222222222222,\"#7201a8\"],[0.3333333333333333,\"#9c179e\"],[0.4444444444444444,\"#bd3786\"],[0.5555555555555556,\"#d8576b\"],[0.6666666666666666,\"#ed7953\"],[0.7777777777777778,\"#fb9f3a\"],[0.8888888888888888,\"#fdca26\"],[1.0,\"#f0f921\"]],\"sequentialminus\":[[0.0,\"#0d0887\"],[0.1111111111111111,\"#46039f\"],[0.2222222222222222,\"#7201a8\"],[0.3333333333333333,\"#9c179e\"],[0.4444444444444444,\"#bd3786\"],[0.5555555555555556,\"#d8576b\"],[0.6666666666666666,\"#ed7953\"],[0.7777777777777778,\"#fb9f3a\"],[0.8888888888888888,\"#fdca26\"],[1.0,\"#f0f921\"]],\"diverging\":[[0,\"#8e0152\"],[0.1,\"#c51b7d\"],[0.2,\"#de77ae\"],[0.3,\"#f1b6da\"],[0.4,\"#fde0ef\"],[0.5,\"#f7f7f7\"],[0.6,\"#e6f5d0\"],[0.7,\"#b8e186\"],[0.8,\"#7fbc41\"],[0.9,\"#4d9221\"],[1,\"#276419\"]]},\"xaxis\":{\"gridcolor\":\"white\",\"linecolor\":\"white\",\"ticks\":\"\",\"title\":{\"standoff\":15},\"zerolinecolor\":\"white\",\"automargin\":true,\"zerolinewidth\":2},\"yaxis\":{\"gridcolor\":\"white\",\"linecolor\":\"white\",\"ticks\":\"\",\"title\":{\"standoff\":15},\"zerolinecolor\":\"white\",\"automargin\":true,\"zerolinewidth\":2},\"scene\":{\"xaxis\":{\"backgroundcolor\":\"#E5ECF6\",\"gridcolor\":\"white\",\"linecolor\":\"white\",\"showbackground\":true,\"ticks\":\"\",\"zerolinecolor\":\"white\",\"gridwidth\":2},\"yaxis\":{\"backgroundcolor\":\"#E5ECF6\",\"gridcolor\":\"white\",\"linecolor\":\"white\",\"showbackground\":true,\"ticks\":\"\",\"zerolinecolor\":\"white\",\"gridwidth\":2},\"zaxis\":{\"backgroundcolor\":\"#E5ECF6\",\"gridcolor\":\"white\",\"linecolor\":\"white\",\"showbackground\":true,\"ticks\":\"\",\"zerolinecolor\":\"white\",\"gridwidth\":2}},\"shapedefaults\":{\"line\":{\"color\":\"#2a3f5f\"}},\"annotationdefaults\":{\"arrowcolor\":\"#2a3f5f\",\"arrowhead\":0,\"arrowwidth\":1},\"geo\":{\"bgcolor\":\"white\",\"landcolor\":\"#E5ECF6\",\"subunitcolor\":\"white\",\"showland\":true,\"showlakes\":true,\"lakecolor\":\"white\"},\"title\":{\"x\":0.05},\"mapbox\":{\"style\":\"light\"}}},\"xaxis\":{\"anchor\":\"y\",\"domain\":[0.0,1.0],\"title\":{\"text\":\"variable\"}},\"yaxis\":{\"anchor\":\"x\",\"domain\":[0.0,1.0],\"title\":{\"text\":\"value\"}},\"legend\":{\"tracegroupgap\":0},\"margin\":{\"t\":60},\"boxmode\":\"group\"},                        {\"responsive\": true}                    ).then(function(){\n",
              "                            \n",
              "var gd = document.getElementById('669124c7-3b23-4903-a5a9-32fdac9deb97');\n",
              "var x = new MutationObserver(function (mutations, observer) {{\n",
              "        var display = window.getComputedStyle(gd).display;\n",
              "        if (!display || display === 'none') {{\n",
              "            console.log([gd, 'removed!']);\n",
              "            Plotly.purge(gd);\n",
              "            observer.disconnect();\n",
              "        }}\n",
              "}});\n",
              "\n",
              "// Listen for the removal of the full notebook cells\n",
              "var notebookContainer = gd.closest('#notebook-container');\n",
              "if (notebookContainer) {{\n",
              "    x.observe(notebookContainer, {childList: true});\n",
              "}}\n",
              "\n",
              "// Listen for the clearing of the current output cell\n",
              "var outputEl = gd.closest('.output');\n",
              "if (outputEl) {{\n",
              "    x.observe(outputEl, {childList: true});\n",
              "}}\n",
              "\n",
              "                        })                };                            </script>        </div>\n",
              "</body>\n",
              "</html>"
            ]
          },
          "metadata": {}
        }
      ]
    },
    {
      "cell_type": "code",
      "source": [
        "q3 = 43000 # taken from box plot\n",
        "q1 = 13500 # taken from box plot\n",
        "\n",
        "IQR = q3-q1\n",
        "upper_fence = q3+(1.5*IQR)\n",
        "lower_fence = q1-(1.5*IQR)"
      ],
      "metadata": {
        "id": "KhgfKteqMkgT"
      },
      "execution_count": null,
      "outputs": []
    },
    {
      "cell_type": "code",
      "source": [
        "print(upper_fence)\n",
        "print(lower_fence)"
      ],
      "metadata": {
        "colab": {
          "base_uri": "https://localhost:8080/"
        },
        "id": "pI3He_SHNKwh",
        "outputId": "179d6d4a-2d91-4f93-f7a0-79e570d2a429"
      },
      "execution_count": null,
      "outputs": [
        {
          "output_type": "stream",
          "name": "stdout",
          "text": [
            "87250.0\n",
            "-30750.0\n"
          ]
        }
      ]
    },
    {
      "cell_type": "code",
      "source": [
        "df_bike = df_bike[(df_bike['km_driven'] >= lower_fence) & (df_bike['km_driven'] <= upper_fence)]"
      ],
      "metadata": {
        "id": "yuvkdD-VNPep"
      },
      "execution_count": null,
      "outputs": []
    },
    {
      "cell_type": "markdown",
      "source": [
        "## 12. Perform a bivariate analysis to visualize the relationship between year and selling_price?"
      ],
      "metadata": {
        "id": "PK4eSMoBOPzR"
      }
    },
    {
      "cell_type": "code",
      "source": [
        "sns.relplot(x=df_bike['year'], y=df_bike['selling_price'], kind='scatter')\n",
        "# not a proper linear relationship, but we can see that selling price inc when year inc"
      ],
      "metadata": {
        "colab": {
          "base_uri": "https://localhost:8080/",
          "height": 523
        },
        "id": "pLfsWP35Oqn3",
        "outputId": "f847110e-72e7-412c-bf8f-345fcf4d4390"
      },
      "execution_count": null,
      "outputs": [
        {
          "output_type": "execute_result",
          "data": {
            "text/plain": [
              "<seaborn.axisgrid.FacetGrid at 0x7920c3e184c0>"
            ]
          },
          "metadata": {},
          "execution_count": 35
        },
        {
          "output_type": "display_data",
          "data": {
            "text/plain": [
              "<Figure size 500x500 with 1 Axes>"
            ],
            "image/png": "[encoded data removed]"
          },
          "metadata": {}
        }
      ]
    },
    {
      "cell_type": "code",
      "source": [
        "sns.heatmap(np.corrcoef(df_bike['year'], df_bike['selling_price']), annot=True)"
      ],
      "metadata": {
        "colab": {
          "base_uri": "https://localhost:8080/",
          "height": 452
        },
        "id": "v-gp9ZBQO0ad",
        "outputId": "a95c1d8e-8d68-4a2a-c20c-e2090b407a81"
      },
      "execution_count": null,
      "outputs": [
        {
          "output_type": "execute_result",
          "data": {
            "text/plain": [
              "<Axes: >"
            ]
          },
          "metadata": {},
          "execution_count": 36
        },
        {
          "output_type": "display_data",
          "data": {
            "text/plain": [
              "<Figure size 640x480 with 2 Axes>"
            ],
            "image/png": "[encoded data removed]"
          },
          "metadata": {}
        }
      ]
    },
    {
      "cell_type": "markdown",
      "source": [
        "## 13. What is the average depreciation in selling price based on the bike's age (current year - manufacturing year)?"
      ],
      "metadata": {
        "id": "_keybu8ZQFLq"
      }
    },
    {
      "cell_type": "code",
      "source": [
        "df_bike.columns"
      ],
      "metadata": {
        "id": "eHcOgHqWPPFu",
        "colab": {
          "base_uri": "https://localhost:8080/"
        },
        "outputId": "88ac248a-0b61-42f6-8bef-e70eae147611"
      },
      "execution_count": null,
      "outputs": [
        {
          "output_type": "execute_result",
          "data": {
            "text/plain": [
              "Index(['name', 'selling_price', 'year', 'seller_type', 'owner', 'km_driven',\n",
              "       'ex_showroom_price'],\n",
              "      dtype='object')"
            ]
          },
          "metadata": {},
          "execution_count": 37
        }
      ]
    },
    {
      "cell_type": "code",
      "source": [
        "df_bike.groupby('year')['selling_price'].mean()"
      ],
      "metadata": {
        "colab": {
          "base_uri": "https://localhost:8080/",
          "height": 993
        },
        "id": "Ki0klBZOEWJf",
        "outputId": "5e13cb54-4b7a-4ab6-ed95-884e9c8f2bc8"
      },
      "execution_count": null,
      "outputs": [
        {
          "output_type": "execute_result",
          "data": {
            "text/plain": [
              "year\n",
              "1988     20000.000000\n",
              "1991      6000.000000\n",
              "1993    130000.000000\n",
              "1995    150000.000000\n",
              "1997     25000.000000\n",
              "1998     28333.333333\n",
              "1999     15000.000000\n",
              "2000     20833.333333\n",
              "2001     40000.000000\n",
              "2002     20666.666667\n",
              "2003      8000.000000\n",
              "2004     16000.000000\n",
              "2005     16978.571429\n",
              "2006     23821.052632\n",
              "2007     27768.181818\n",
              "2008     36404.000000\n",
              "2009     22934.782609\n",
              "2010     32350.877193\n",
              "2011     35931.017241\n",
              "2012     36157.560606\n",
              "2013     51802.816901\n",
              "2014     49121.348315\n",
              "2015     56313.131313\n",
              "2016     57924.126214\n",
              "2017     78962.121212\n",
              "2018     87660.374046\n",
              "2019    119689.511628\n",
              "2020    183333.333333\n",
              "Name: selling_price, dtype: float64"
            ],
            "text/html": [
              "<div>\n",
              "<style scoped>\n",
              "    .dataframe tbody tr th:only-of-type {\n",
              "        vertical-align: middle;\n",
              "    }\n",
              "\n",
              "    .dataframe tbody tr th {\n",
              "        vertical-align: top;\n",
              "    }\n",
              "\n",
              "    .dataframe thead th {\n",
              "        text-align: right;\n",
              "    }\n",
              "</style>\n",
              "<table border=\"1\" class=\"dataframe\">\n",
              "  <thead>\n",
              "    <tr style=\"text-align: right;\">\n",
              "      <th></th>\n",
              "      <th>selling_price</th>\n",
              "    </tr>\n",
              "    <tr>\n",
              "      <th>year</th>\n",
              "      <th></th>\n",
              "    </tr>\n",
              "  </thead>\n",
              "  <tbody>\n",
              "    <tr>\n",
              "      <th>1988</th>\n",
              "      <td>20000.000000</td>\n",
              "    </tr>\n",
              "    <tr>\n",
              "      <th>1991</th>\n",
              "      <td>6000.000000</td>\n",
              "    </tr>\n",
              "    <tr>\n",
              "      <th>1993</th>\n",
              "      <td>130000.000000</td>\n",
              "    </tr>\n",
              "    <tr>\n",
              "      <th>1995</th>\n",
              "      <td>150000.000000</td>\n",
              "    </tr>\n",
              "    <tr>\n",
              "      <th>1997</th>\n",
              "      <td>25000.000000</td>\n",
              "    </tr>\n",
              "    <tr>\n",
              "      <th>1998</th>\n",
              "      <td>28333.333333</td>\n",
              "    </tr>\n",
              "    <tr>\n",
              "      <th>1999</th>\n",
              "      <td>15000.000000</td>\n",
              "    </tr>\n",
              "    <tr>\n",
              "      <th>2000</th>\n",
              "      <td>20833.333333</td>\n",
              "    </tr>\n",
              "    <tr>\n",
              "      <th>2001</th>\n",
              "      <td>40000.000000</td>\n",
              "    </tr>\n",
              "    <tr>\n",
              "      <th>2002</th>\n",
              "      <td>20666.666667</td>\n",
              "    </tr>\n",
              "    <tr>\n",
              "      <th>2003</th>\n",
              "      <td>8000.000000</td>\n",
              "    </tr>\n",
              "    <tr>\n",
              "      <th>2004</th>\n",
              "      <td>16000.000000</td>\n",
              "    </tr>\n",
              "    <tr>\n",
              "      <th>2005</th>\n",
              "      <td>16978.571429</td>\n",
              "    </tr>\n",
              "    <tr>\n",
              "      <th>2006</th>\n",
              "      <td>23821.052632</td>\n",
              "    </tr>\n",
              "    <tr>\n",
              "      <th>2007</th>\n",
              "      <td>27768.181818</td>\n",
              "    </tr>\n",
              "    <tr>\n",
              "      <th>2008</th>\n",
              "      <td>36404.000000</td>\n",
              "    </tr>\n",
              "    <tr>\n",
              "      <th>2009</th>\n",
              "      <td>22934.782609</td>\n",
              "    </tr>\n",
              "    <tr>\n",
              "      <th>2010</th>\n",
              "      <td>32350.877193</td>\n",
              "    </tr>\n",
              "    <tr>\n",
              "      <th>2011</th>\n",
              "      <td>35931.017241</td>\n",
              "    </tr>\n",
              "    <tr>\n",
              "      <th>2012</th>\n",
              "      <td>36157.560606</td>\n",
              "    </tr>\n",
              "    <tr>\n",
              "      <th>2013</th>\n",
              "      <td>51802.816901</td>\n",
              "    </tr>\n",
              "    <tr>\n",
              "      <th>2014</th>\n",
              "      <td>49121.348315</td>\n",
              "    </tr>\n",
              "    <tr>\n",
              "      <th>2015</th>\n",
              "      <td>56313.131313</td>\n",
              "    </tr>\n",
              "    <tr>\n",
              "      <th>2016</th>\n",
              "      <td>57924.126214</td>\n",
              "    </tr>\n",
              "    <tr>\n",
              "      <th>2017</th>\n",
              "      <td>78962.121212</td>\n",
              "    </tr>\n",
              "    <tr>\n",
              "      <th>2018</th>\n",
              "      <td>87660.374046</td>\n",
              "    </tr>\n",
              "    <tr>\n",
              "      <th>2019</th>\n",
              "      <td>119689.511628</td>\n",
              "    </tr>\n",
              "    <tr>\n",
              "      <th>2020</th>\n",
              "      <td>183333.333333</td>\n",
              "    </tr>\n",
              "  </tbody>\n",
              "</table>\n",
              "</div><br><label><b>dtype:</b> float64</label>"
            ]
          },
          "metadata": {},
          "execution_count": 38
        }
      ]
    },
    {
      "cell_type": "markdown",
      "source": [
        "## 14. Which bike names are priced significantly above the average price for their manufacturing year?"
      ],
      "metadata": {
        "id": "VT5zcIGdE5Dp"
      }
    },
    {
      "cell_type": "code",
      "source": [
        "avg_price = df_bike.groupby('year')['selling_price'].mean().reset_index()\n",
        "avg_price.rename(columns={'selling_price':'avg_selling_price'}, inplace=True)"
      ],
      "metadata": {
        "id": "Fti-MbguEq07"
      },
      "execution_count": null,
      "outputs": []
    },
    {
      "cell_type": "code",
      "source": [
        "df_bike = pd.merge(df_bike, avg_price, on='year')\n",
        "\n",
        "df_bike[df_bike['selling_price']>df_bike['avg_selling_price']]"
      ],
      "metadata": {
        "colab": {
          "base_uri": "https://localhost:8080/",
          "height": 912
        },
        "id": "LtDBUb9UGRNI",
        "outputId": "0eddfb49-2705-4cd5-ef22-e806e8e01403"
      },
      "execution_count": null,
      "outputs": [
        {
          "output_type": "execute_result",
          "data": {
            "text/plain": [
              "                                     name  selling_price  year seller_type  \\\n",
              "0               Royal Enfield Classic 350         175000  2019  Individual   \n",
              "2     Royal Enfield Classic Gunmetal Grey         150000  2018  Individual   \n",
              "3       Yamaha Fazer FI V 2.0 [2016-2018]          65000  2015  Individual   \n",
              "7    Royal Enfield Bullet 350 [2007-2011]         180000  2008  Individual   \n",
              "13                          Yamaha YZF R3         365000  2019  Individual   \n",
              "..                                    ...            ...   ...         ...   \n",
              "968                  Bajaj Pulsar  NS 200          60000  2016  Individual   \n",
              "969                    TVS Apache RTR 160          60000  2014  Individual   \n",
              "972                    Bajaj Pulsar 220 F          52000  2012  Individual   \n",
              "976                   Bajaj Pulsar NS 200          50000  2014  Individual   \n",
              "987                Bajaj Avenger 220 dtsi          45000  2012  Individual   \n",
              "\n",
              "         owner  km_driven  ex_showroom_price  avg_selling_price_x  \\\n",
              "0    1st owner        350                NaN        119689.511628   \n",
              "2    1st owner      12000           148114.0         87660.374046   \n",
              "3    1st owner      23000            89643.0         56313.131313   \n",
              "7    2nd owner      39000                NaN         36404.000000   \n",
              "13   1st owner       1127           351680.0        119689.511628   \n",
              "..         ...        ...                ...                  ...   \n",
              "968  1st owner      25000            99000.0         57924.126214   \n",
              "969  1st owner      19000            81000.0         49121.348315   \n",
              "972  1st owner      45000            94000.0         36157.560606   \n",
              "976  1st owner      13000            99000.0         49121.348315   \n",
              "987  1st owner      27000            95000.0         36157.560606   \n",
              "\n",
              "     avg_selling_price_y  avg_selling_price  \n",
              "0          119689.511628      119689.511628  \n",
              "2           87660.374046       87660.374046  \n",
              "3           56313.131313       56313.131313  \n",
              "7           36404.000000       36404.000000  \n",
              "13         119689.511628      119689.511628  \n",
              "..                   ...                ...  \n",
              "968         57924.126214       57924.126214  \n",
              "969         49121.348315       49121.348315  \n",
              "972         36157.560606       36157.560606  \n",
              "976         49121.348315       49121.348315  \n",
              "987         36157.560606       36157.560606  \n",
              "\n",
              "[318 rows x 10 columns]"
            ],
            "text/html": [
              "\n",
              "  <div id=\"df-5bfbd2e5-0682-4ccb-bae3-c3bd943a31dd\" class=\"colab-df-container\">\n",
              "    <div>\n",
              "<style scoped>\n",
              "    .dataframe tbody tr th:only-of-type {\n",
              "        vertical-align: middle;\n",
              "    }\n",
              "\n",
              "    .dataframe tbody tr th {\n",
              "        vertical-align: top;\n",
              "    }\n",
              "\n",
              "    .dataframe thead th {\n",
              "        text-align: right;\n",
              "    }\n",
              "</style>\n",
              "<table border=\"1\" class=\"dataframe\">\n",
              "  <thead>\n",
              "    <tr style=\"text-align: right;\">\n",
              "      <th></th>\n",
              "      <th>name</th>\n",
              "      <th>selling_price</th>\n",
              "      <th>year</th>\n",
              "      <th>seller_type</th>\n",
              "      <th>owner</th>\n",
              "      <th>km_driven</th>\n",
              "      <th>ex_showroom_price</th>\n",
              "      <th>avg_selling_price_x</th>\n",
              "      <th>avg_selling_price_y</th>\n",
              "      <th>avg_selling_price</th>\n",
              "    </tr>\n",
              "  </thead>\n",
              "  <tbody>\n",
              "    <tr>\n",
              "      <th>0</th>\n",
              "      <td>Royal Enfield Classic 350</td>\n",
              "      <td>175000</td>\n",
              "      <td>2019</td>\n",
              "      <td>Individual</td>\n",
              "      <td>1st owner</td>\n",
              "      <td>350</td>\n",
              "      <td>NaN</td>\n",
              "      <td>119689.511628</td>\n",
              "      <td>119689.511628</td>\n",
              "      <td>119689.511628</td>\n",
              "    </tr>\n",
              "    <tr>\n",
              "      <th>2</th>\n",
              "      <td>Royal Enfield Classic Gunmetal Grey</td>\n",
              "      <td>150000</td>\n",
              "      <td>2018</td>\n",
              "      <td>Individual</td>\n",
              "      <td>1st owner</td>\n",
              "      <td>12000</td>\n",
              "      <td>148114.0</td>\n",
              "      <td>87660.374046</td>\n",
              "      <td>87660.374046</td>\n",
              "      <td>87660.374046</td>\n",
              "    </tr>\n",
              "    <tr>\n",
              "      <th>3</th>\n",
              "      <td>Yamaha Fazer FI V 2.0 [2016-2018]</td>\n",
              "      <td>65000</td>\n",
              "      <td>2015</td>\n",
              "      <td>Individual</td>\n",
              "      <td>1st owner</td>\n",
              "      <td>23000</td>\n",
              "      <td>89643.0</td>\n",
              "      <td>56313.131313</td>\n",
              "      <td>56313.131313</td>\n",
              "      <td>56313.131313</td>\n",
              "    </tr>\n",
              "    <tr>\n",
              "      <th>7</th>\n",
              "      <td>Royal Enfield Bullet 350 [2007-2011]</td>\n",
              "      <td>180000</td>\n",
              "      <td>2008</td>\n",
              "      <td>Individual</td>\n",
              "      <td>2nd owner</td>\n",
              "      <td>39000</td>\n",
              "      <td>NaN</td>\n",
              "      <td>36404.000000</td>\n",
              "      <td>36404.000000</td>\n",
              "      <td>36404.000000</td>\n",
              "    </tr>\n",
              "    <tr>\n",
              "      <th>13</th>\n",
              "      <td>Yamaha YZF R3</td>\n",
              "      <td>365000</td>\n",
              "      <td>2019</td>\n",
              "      <td>Individual</td>\n",
              "      <td>1st owner</td>\n",
              "      <td>1127</td>\n",
              "      <td>351680.0</td>\n",
              "      <td>119689.511628</td>\n",
              "      <td>119689.511628</td>\n",
              "      <td>119689.511628</td>\n",
              "    </tr>\n",
              "    <tr>\n",
              "      <th>...</th>\n",
              "      <td>...</td>\n",
              "      <td>...</td>\n",
              "      <td>...</td>\n",
              "      <td>...</td>\n",
              "      <td>...</td>\n",
              "      <td>...</td>\n",
              "      <td>...</td>\n",
              "      <td>...</td>\n",
              "      <td>...</td>\n",
              "      <td>...</td>\n",
              "    </tr>\n",
              "    <tr>\n",
              "      <th>968</th>\n",
              "      <td>Bajaj Pulsar  NS 200</td>\n",
              "      <td>60000</td>\n",
              "      <td>2016</td>\n",
              "      <td>Individual</td>\n",
              "      <td>1st owner</td>\n",
              "      <td>25000</td>\n",
              "      <td>99000.0</td>\n",
              "      <td>57924.126214</td>\n",
              "      <td>57924.126214</td>\n",
              "      <td>57924.126214</td>\n",
              "    </tr>\n",
              "    <tr>\n",
              "      <th>969</th>\n",
              "      <td>TVS Apache RTR 160</td>\n",
              "      <td>60000</td>\n",
              "      <td>2014</td>\n",
              "      <td>Individual</td>\n",
              "      <td>1st owner</td>\n",
              "      <td>19000</td>\n",
              "      <td>81000.0</td>\n",
              "      <td>49121.348315</td>\n",
              "      <td>49121.348315</td>\n",
              "      <td>49121.348315</td>\n",
              "    </tr>\n",
              "    <tr>\n",
              "      <th>972</th>\n",
              "      <td>Bajaj Pulsar 220 F</td>\n",
              "      <td>52000</td>\n",
              "      <td>2012</td>\n",
              "      <td>Individual</td>\n",
              "      <td>1st owner</td>\n",
              "      <td>45000</td>\n",
              "      <td>94000.0</td>\n",
              "      <td>36157.560606</td>\n",
              "      <td>36157.560606</td>\n",
              "      <td>36157.560606</td>\n",
              "    </tr>\n",
              "    <tr>\n",
              "      <th>976</th>\n",
              "      <td>Bajaj Pulsar NS 200</td>\n",
              "      <td>50000</td>\n",
              "      <td>2014</td>\n",
              "      <td>Individual</td>\n",
              "      <td>1st owner</td>\n",
              "      <td>13000</td>\n",
              "      <td>99000.0</td>\n",
              "      <td>49121.348315</td>\n",
              "      <td>49121.348315</td>\n",
              "      <td>49121.348315</td>\n",
              "    </tr>\n",
              "    <tr>\n",
              "      <th>987</th>\n",
              "      <td>Bajaj Avenger 220 dtsi</td>\n",
              "      <td>45000</td>\n",
              "      <td>2012</td>\n",
              "      <td>Individual</td>\n",
              "      <td>1st owner</td>\n",
              "      <td>27000</td>\n",
              "      <td>95000.0</td>\n",
              "      <td>36157.560606</td>\n",
              "      <td>36157.560606</td>\n",
              "      <td>36157.560606</td>\n",
              "    </tr>\n",
              "  </tbody>\n",
              "</table>\n",
              "<p>318 rows × 10 columns</p>\n",
              "</div>\n",
              "    <div class=\"colab-df-buttons\">\n",
              "\n",
              "  <div class=\"colab-df-container\">\n",
              "    <button class=\"colab-df-convert\" onclick=\"convertToInteractive('df-5bfbd2e5-0682-4ccb-bae3-c3bd943a31dd')\"\n",
              "            title=\"Convert this dataframe to an interactive table.\"\n",
              "            style=\"display:none;\">\n",
              "\n",
              "  <svg xmlns=\"http://www.w3.org/2000/svg\" height=\"24px\" viewBox=\"0 -960 960 960\">\n",
              "    <path d=\"M120-120v-720h720v720H120Zm60-500h600v-160H180v160Zm220 220h160v-160H400v160Zm0 220h160v-160H400v160ZM180-400h160v-160H180v160Zm440 0h160v-160H620v160ZM180-180h160v-160H180v160Zm440 0h160v-160H620v160Z\"/>\n",
              "  </svg>\n",
              "    </button>\n",
              "\n",
              "  <style>\n",
              "    .colab-df-container {\n",
              "      display:flex;\n",
              "      gap: 12px;\n",
              "    }\n",
              "\n",
              "    .colab-df-convert {\n",
              "      background-color: #E8F0FE;\n",
              "      border: none;\n",
              "      border-radius: 50%;\n",
              "      cursor: pointer;\n",
              "      display: none;\n",
              "      fill: #1967D2;\n",
              "      height: 32px;\n",
              "      padding: 0 0 0 0;\n",
              "      width: 32px;\n",
              "    }\n",
              "\n",
              "    .colab-df-convert:hover {\n",
              "      background-color: #E2EBFA;\n",
              "      box-shadow: 0px 1px 2px rgba(60, 64, 67, 0.3), 0px 1px 3px 1px rgba(60, 64, 67, 0.15);\n",
              "      fill: #174EA6;\n",
              "    }\n",
              "\n",
              "    .colab-df-buttons div {\n",
              "      margin-bottom: 4px;\n",
              "    }\n",
              "\n",
              "    [theme=dark] .colab-df-convert {\n",
              "      background-color: #3B4455;\n",
              "      fill: #D2E3FC;\n",
              "    }\n",
              "\n",
              "    [theme=dark] .colab-df-convert:hover {\n",
              "      background-color: #434B5C;\n",
              "      box-shadow: 0px 1px 3px 1px rgba(0, 0, 0, 0.15);\n",
              "      filter: drop-shadow(0px 1px 2px rgba(0, 0, 0, 0.3));\n",
              "      fill: #FFFFFF;\n",
              "    }\n",
              "  </style>\n",
              "\n",
              "    <script>\n",
              "      const buttonEl =\n",
              "        document.querySelector('#df-5bfbd2e5-0682-4ccb-bae3-c3bd943a31dd button.colab-df-convert');\n",
              "      buttonEl.style.display =\n",
              "        google.colab.kernel.accessAllowed ? 'block' : 'none';\n",
              "\n",
              "      async function convertToInteractive(key) {\n",
              "        const element = document.querySelector('#df-5bfbd2e5-0682-4ccb-bae3-c3bd943a31dd');\n",
              "        const dataTable =\n",
              "          await google.colab.kernel.invokeFunction('convertToInteractive',\n",
              "                                                    [key], {});\n",
              "        if (!dataTable) return;\n",
              "\n",
              "        const docLinkHtml = 'Like what you see? Visit the ' +\n",
              "          '<a target=\"_blank\" href=https://colab.research.google.com/notebooks/data_table.ipynb>data table notebook</a>'\n",
              "          + ' to learn more about interactive tables.';\n",
              "        element.innerHTML = '';\n",
              "        dataTable['output_type'] = 'display_data';\n",
              "        await google.colab.output.renderOutput(dataTable, element);\n",
              "        const docLink = document.createElement('div');\n",
              "        docLink.innerHTML = docLinkHtml;\n",
              "        element.appendChild(docLink);\n",
              "      }\n",
              "    </script>\n",
              "  </div>\n",
              "\n",
              "\n",
              "<div id=\"df-584064ba-ccf9-4d6f-9d47-84c1c5d6a426\">\n",
              "  <button class=\"colab-df-quickchart\" onclick=\"quickchart('df-584064ba-ccf9-4d6f-9d47-84c1c5d6a426')\"\n",
              "            title=\"Suggest charts\"\n",
              "            style=\"display:none;\">\n",
              "\n",
              "<svg xmlns=\"http://www.w3.org/2000/svg\" height=\"24px\"viewBox=\"0 0 24 24\"\n",
              "     width=\"24px\">\n",
              "    <g>\n",
              "        <path d=\"M19 3H5c-1.1 0-2 .9-2 2v14c0 1.1.9 2 2 2h14c1.1 0 2-.9 2-2V5c0-1.1-.9-2-2-2zM9 17H7v-7h2v7zm4 0h-2V7h2v10zm4 0h-2v-4h2v4z\"/>\n",
              "    </g>\n",
              "</svg>\n",
              "  </button>\n",
              "\n",
              "<style>\n",
              "  .colab-df-quickchart {\n",
              "      --bg-color: #E8F0FE;\n",
              "      --fill-color: #1967D2;\n",
              "      --hover-bg-color: #E2EBFA;\n",
              "      --hover-fill-color: #174EA6;\n",
              "      --disabled-fill-color: #AAA;\n",
              "      --disabled-bg-color: #DDD;\n",
              "  }\n",
              "\n",
              "  [theme=dark] .colab-df-quickchart {\n",
              "      --bg-color: #3B4455;\n",
              "      --fill-color: #D2E3FC;\n",
              "      --hover-bg-color: #434B5C;\n",
              "      --hover-fill-color: #FFFFFF;\n",
              "      --disabled-bg-color: #3B4455;\n",
              "      --disabled-fill-color: #666;\n",
              "  }\n",
              "\n",
              "  .colab-df-quickchart {\n",
              "    background-color: var(--bg-color);\n",
              "    border: none;\n",
              "    border-radius: 50%;\n",
              "    cursor: pointer;\n",
              "    display: none;\n",
              "    fill: var(--fill-color);\n",
              "    height: 32px;\n",
              "    padding: 0;\n",
              "    width: 32px;\n",
              "  }\n",
              "\n",
              "  .colab-df-quickchart:hover {\n",
              "    background-color: var(--hover-bg-color);\n",
              "    box-shadow: 0 1px 2px rgba(60, 64, 67, 0.3), 0 1px 3px 1px rgba(60, 64, 67, 0.15);\n",
              "    fill: var(--button-hover-fill-color);\n",
              "  }\n",
              "\n",
              "  .colab-df-quickchart-complete:disabled,\n",
              "  .colab-df-quickchart-complete:disabled:hover {\n",
              "    background-color: var(--disabled-bg-color);\n",
              "    fill: var(--disabled-fill-color);\n",
              "    box-shadow: none;\n",
              "  }\n",
              "\n",
              "  .colab-df-spinner {\n",
              "    border: 2px solid var(--fill-color);\n",
              "    border-color: transparent;\n",
              "    border-bottom-color: var(--fill-color);\n",
              "    animation:\n",
              "      spin 1s steps(1) infinite;\n",
              "  }\n",
              "\n",
              "  @keyframes spin {\n",
              "    0% {\n",
              "      border-color: transparent;\n",
              "      border-bottom-color: var(--fill-color);\n",
              "      border-left-color: var(--fill-color);\n",
              "    }\n",
              "    20% {\n",
              "      border-color: transparent;\n",
              "      border-left-color: var(--fill-color);\n",
              "      border-top-color: var(--fill-color);\n",
              "    }\n",
              "    30% {\n",
              "      border-color: transparent;\n",
              "      border-left-color: var(--fill-color);\n",
              "      border-top-color: var(--fill-color);\n",
              "      border-right-color: var(--fill-color);\n",
              "    }\n",
              "    40% {\n",
              "      border-color: transparent;\n",
              "      border-right-color: var(--fill-color);\n",
              "      border-top-color: var(--fill-color);\n",
              "    }\n",
              "    60% {\n",
              "      border-color: transparent;\n",
              "      border-right-color: var(--fill-color);\n",
              "    }\n",
              "    80% {\n",
              "      border-color: transparent;\n",
              "      border-right-color: var(--fill-color);\n",
              "      border-bottom-color: var(--fill-color);\n",
              "    }\n",
              "    90% {\n",
              "      border-color: transparent;\n",
              "      border-bottom-color: var(--fill-color);\n",
              "    }\n",
              "  }\n",
              "</style>\n",
              "\n",
              "  <script>\n",
              "    async function quickchart(key) {\n",
              "      const quickchartButtonEl =\n",
              "        document.querySelector('#' + key + ' button');\n",
              "      quickchartButtonEl.disabled = true;  // To prevent multiple clicks.\n",
              "      quickchartButtonEl.classList.add('colab-df-spinner');\n",
              "      try {\n",
              "        const charts = await google.colab.kernel.invokeFunction(\n",
              "            'suggestCharts', [key], {});\n",
              "      } catch (error) {\n",
              "        console.error('Error during call to suggestCharts:', error);\n",
              "      }\n",
              "      quickchartButtonEl.classList.remove('colab-df-spinner');\n",
              "      quickchartButtonEl.classList.add('colab-df-quickchart-complete');\n",
              "    }\n",
              "    (() => {\n",
              "      let quickchartButtonEl =\n",
              "        document.querySelector('#df-584064ba-ccf9-4d6f-9d47-84c1c5d6a426 button');\n",
              "      quickchartButtonEl.style.display =\n",
              "        google.colab.kernel.accessAllowed ? 'block' : 'none';\n",
              "    })();\n",
              "  </script>\n",
              "</div>\n",
              "\n",
              "    </div>\n",
              "  </div>\n"
            ],
            "application/vnd.google.colaboratory.intrinsic+json": {
              "type": "dataframe",
              "summary": "{\n  \"name\": \"df_bike[df_bike['selling_price']>df_bike['avg_selling_price']]\",\n  \"rows\": 318,\n  \"fields\": [\n    {\n      \"column\": \"name\",\n      \"properties\": {\n        \"dtype\": \"category\",\n        \"num_unique_values\": 129,\n        \"samples\": [\n          \"Kawasaki Ninja 650 [2018-2019]\",\n          \"Bajaj Pulsar 150\",\n          \"Hero Xtreme Sports\"\n        ],\n        \"semantic_type\": \"\",\n        \"description\": \"\"\n      }\n    },\n    {\n      \"column\": \"selling_price\",\n      \"properties\": {\n        \"dtype\": \"number\",\n        \"std\": 79756,\n        \"min\": 18000,\n        \"max\": 760000,\n        \"num_unique_values\": 72,\n        \"samples\": [\n          365000,\n          20000,\n          160000\n        ],\n        \"semantic_type\": \"\",\n        \"description\": \"\"\n      }\n    },\n    {\n      \"column\": \"year\",\n      \"properties\": {\n        \"dtype\": \"number\",\n        \"std\": 3,\n        \"min\": 1998,\n        \"max\": 2020,\n        \"num_unique_values\": 21,\n        \"samples\": [\n          2019,\n          1998,\n          2000\n        ],\n        \"semantic_type\": \"\",\n        \"description\": \"\"\n      }\n    },\n    {\n      \"column\": \"seller_type\",\n      \"properties\": {\n        \"dtype\": \"category\",\n        \"num_unique_values\": 2,\n        \"samples\": [\n          \"Dealer\",\n          \"Individual\"\n        ],\n        \"semantic_type\": \"\",\n        \"description\": \"\"\n      }\n    },\n    {\n      \"column\": \"owner\",\n      \"properties\": {\n        \"dtype\": \"category\",\n        \"num_unique_values\": 4,\n        \"samples\": [\n          \"2nd owner\",\n          \"4th owner\"\n        ],\n        \"semantic_type\": \"\",\n        \"description\": \"\"\n      }\n    },\n    {\n      \"column\": \"km_driven\",\n      \"properties\": {\n        \"dtype\": \"number\",\n        \"std\": 17735,\n        \"min\": 350,\n        \"max\": 82000,\n        \"num_unique_values\": 149,\n        \"samples\": [\n          5505,\n          30000\n        ],\n        \"semantic_type\": \"\",\n        \"description\": \"\"\n      }\n    },\n    {\n      \"column\": \"ex_showroom_price\",\n      \"properties\": {\n        \"dtype\": \"number\",\n        \"std\": 131032.35632578825,\n        \"min\": 49150.0,\n        \"max\": 1278000.0,\n        \"num_unique_values\": 90,\n        \"samples\": [\n          110240.0,\n          118997.0\n        ],\n        \"semantic_type\": \"\",\n        \"description\": \"\"\n      }\n    },\n    {\n      \"column\": \"avg_selling_price_x\",\n      \"properties\": {\n        \"dtype\": \"number\",\n        \"std\": 29035.926241884044,\n        \"min\": 16000.0,\n        \"max\": 183333.33333333334,\n        \"num_unique_values\": 21,\n        \"samples\": [\n          119689.51162790698,\n          28333.333333333332\n        ],\n        \"semantic_type\": \"\",\n        \"description\": \"\"\n      }\n    },\n    {\n      \"column\": \"avg_selling_price_y\",\n      \"properties\": {\n        \"dtype\": \"number\",\n        \"std\": 29035.926241884044,\n        \"min\": 16000.0,\n        \"max\": 183333.33333333334,\n        \"num_unique_values\": 21,\n        \"samples\": [\n          119689.51162790698,\n          28333.333333333332\n        ],\n        \"semantic_type\": \"\",\n        \"description\": \"\"\n      }\n    },\n    {\n      \"column\": \"avg_selling_price\",\n      \"properties\": {\n        \"dtype\": \"number\",\n        \"std\": 29035.926241884044,\n        \"min\": 16000.0,\n        \"max\": 183333.33333333334,\n        \"num_unique_values\": 21,\n        \"samples\": [\n          119689.51162790698,\n          28333.333333333332\n        ],\n        \"semantic_type\": \"\",\n        \"description\": \"\"\n      }\n    }\n  ]\n}"
            }
          },
          "metadata": {},
          "execution_count": 47
        }
      ]
    },
    {
      "cell_type": "markdown",
      "source": [
        "## 15. Develop a correlation matrix for numeric columns and visualize it using a heatmap."
      ],
      "metadata": {
        "id": "rglIMQLjHcKW"
      }
    },
    {
      "cell_type": "code",
      "source": [
        "df_bike.drop(['avg_selling_price_x', 'avg_selling_price_y'], inplace=True, axis=1)"
      ],
      "metadata": {
        "id": "6iX0dkRCIikP"
      },
      "execution_count": null,
      "outputs": []
    },
    {
      "cell_type": "code",
      "source": [
        "sns.heatmap(df_bike.corr(numeric_only=True), annot=True)"
      ],
      "metadata": {
        "colab": {
          "base_uri": "https://localhost:8080/",
          "height": 575
        },
        "id": "IKYiv1MAH1RT",
        "outputId": "e460c6d7-01dc-4fc1-c358-ce51aec0984e"
      },
      "execution_count": null,
      "outputs": [
        {
          "output_type": "execute_result",
          "data": {
            "text/plain": [
              "<Axes: >"
            ]
          },
          "metadata": {},
          "execution_count": 55
        },
        {
          "output_type": "display_data",
          "data": {
            "text/plain": [
              "<Figure size 640x480 with 2 Axes>"
            ],
            "image/png": "[encoded data removed]"
          },
          "metadata": {}
        }
      ]
    },
    {
      "cell_type": "code",
      "source": [],
      "metadata": {
        "id": "SF94YOJSIGHO"
      },
      "execution_count": null,
      "outputs": []
    }
  ]
}