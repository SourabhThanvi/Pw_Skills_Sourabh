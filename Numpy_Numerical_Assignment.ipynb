{
  "nbformat": 4,
  "nbformat_minor": 0,
  "metadata": {
    "colab": {
      "provenance": [],
      "authorship_tag": "ABX9TyOHIjQr+I5FntqRIIZs34g0",
      "include_colab_link": true
    },
    "kernelspec": {
      "name": "python3",
      "display_name": "Python 3"
    },
    "language_info": {
      "name": "python"
    }
  },
  "cells": [
    {
      "cell_type": "markdown",
      "metadata": {
        "id": "view-in-github",
        "colab_type": "text"
      },
      "source": [
        "<a href=\"https://colab.research.google.com/github/SourabhThanvi/Pw_Skills_Sourabh/blob/main/Numpy_Numerical_Assignment.ipynb\" target=\"_parent\"><img src=\"https://colab.research.google.com/assets/colab-badge.svg\" alt=\"Open In Colab\"/></a>"
      ]
    },
    {
      "cell_type": "code",
      "source": [
        "import numpy as np"
      ],
      "metadata": {
        "id": "PGEK3wSjCbk-"
      },
      "execution_count": 1,
      "outputs": []
    },
    {
      "cell_type": "markdown",
      "source": [
        "## 1. Create a 3x3 NumPy array with random integers between 1 and 100. Then, interchange its rows and columns."
      ],
      "metadata": {
        "id": "r3Tma_IQCLxc"
      }
    },
    {
      "cell_type": "code",
      "execution_count": 6,
      "metadata": {
        "id": "32qb6xasB3GN"
      },
      "outputs": [],
      "source": [
        "arr = np.random.randint(1,100, (3,3))"
      ]
    },
    {
      "cell_type": "code",
      "source": [
        "arr"
      ],
      "metadata": {
        "colab": {
          "base_uri": "https://localhost:8080/"
        },
        "id": "COTp0nXhCiKD",
        "outputId": "51bbc739-f6ff-4090-81a7-b49b96a88de7"
      },
      "execution_count": 7,
      "outputs": [
        {
          "output_type": "execute_result",
          "data": {
            "text/plain": [
              "array([[17, 13, 69],\n",
              "       [ 9, 99, 75],\n",
              "       [ 7, 89, 60]])"
            ]
          },
          "metadata": {},
          "execution_count": 7
        }
      ]
    },
    {
      "cell_type": "code",
      "source": [
        "arr.T"
      ],
      "metadata": {
        "colab": {
          "base_uri": "https://localhost:8080/"
        },
        "id": "2j3LC7H6Cjq_",
        "outputId": "8048dcb4-d48e-488a-e69b-f66f602afd99"
      },
      "execution_count": 8,
      "outputs": [
        {
          "output_type": "execute_result",
          "data": {
            "text/plain": [
              "array([[17,  9,  7],\n",
              "       [13, 99, 89],\n",
              "       [69, 75, 60]])"
            ]
          },
          "metadata": {},
          "execution_count": 8
        }
      ]
    },
    {
      "cell_type": "markdown",
      "source": [
        "## 2. Generate a 1D NumPy array with 10 elements. Reshape it into a 2x5 array, then into a 5x2 array."
      ],
      "metadata": {
        "id": "5w-bjmc3Cy1Q"
      }
    },
    {
      "cell_type": "code",
      "source": [
        "arr2 = np.arange(10)\n",
        "arr2"
      ],
      "metadata": {
        "colab": {
          "base_uri": "https://localhost:8080/"
        },
        "id": "GnOfSqePCsD-",
        "outputId": "9d431d79-fd02-4849-def1-5c232067fee7"
      },
      "execution_count": 10,
      "outputs": [
        {
          "output_type": "execute_result",
          "data": {
            "text/plain": [
              "array([0, 1, 2, 3, 4, 5, 6, 7, 8, 9])"
            ]
          },
          "metadata": {},
          "execution_count": 10
        }
      ]
    },
    {
      "cell_type": "code",
      "source": [
        "## Another way of creating a 1D Numpy array of 10 elements\n",
        "array = np.linspace(1,100, 10, dtype=int)\n",
        "array"
      ],
      "metadata": {
        "colab": {
          "base_uri": "https://localhost:8080/"
        },
        "id": "eIZ3Ksn6DI3V",
        "outputId": "41173979-78dd-4ba9-c782-812ab821f251"
      },
      "execution_count": 16,
      "outputs": [
        {
          "output_type": "execute_result",
          "data": {
            "text/plain": [
              "array([  1,  12,  23,  34,  45,  56,  67,  78,  89, 100])"
            ]
          },
          "metadata": {},
          "execution_count": 16
        }
      ]
    },
    {
      "cell_type": "code",
      "source": [
        "arr2.reshape(2,5)"
      ],
      "metadata": {
        "colab": {
          "base_uri": "https://localhost:8080/"
        },
        "id": "6CMBbGjRC72h",
        "outputId": "1edaf44b-6bd2-4d7e-d4e9-834a45d08a38"
      },
      "execution_count": 11,
      "outputs": [
        {
          "output_type": "execute_result",
          "data": {
            "text/plain": [
              "array([[0, 1, 2, 3, 4],\n",
              "       [5, 6, 7, 8, 9]])"
            ]
          },
          "metadata": {},
          "execution_count": 11
        }
      ]
    },
    {
      "cell_type": "code",
      "source": [
        "arr2.reshape(5,2)"
      ],
      "metadata": {
        "colab": {
          "base_uri": "https://localhost:8080/"
        },
        "id": "pv-AKsANDESF",
        "outputId": "c19041e0-7542-4cca-a87f-82b4f2077095"
      },
      "execution_count": 12,
      "outputs": [
        {
          "output_type": "execute_result",
          "data": {
            "text/plain": [
              "array([[0, 1],\n",
              "       [2, 3],\n",
              "       [4, 5],\n",
              "       [6, 7],\n",
              "       [8, 9]])"
            ]
          },
          "metadata": {},
          "execution_count": 12
        }
      ]
    },
    {
      "cell_type": "markdown",
      "source": [
        "## 3. Create a 4x4 NumPy array with random float values. Add a border of zeros around it, resulting in a 6x6 array."
      ],
      "metadata": {
        "id": "MAWKIp2wDhXc"
      }
    },
    {
      "cell_type": "code",
      "source": [
        "arr3 = np.random.random_sample((4, 4))*100"
      ],
      "metadata": {
        "id": "r1ynFx7FDHXo"
      },
      "execution_count": 20,
      "outputs": []
    },
    {
      "cell_type": "code",
      "source": [
        "# Errored Code (Tried Code)\n",
        "\n",
        "# np.repeat(arr3, 2, axis=0)\n",
        "# np.repeat(arr3, 2, axis=0)\n",
        "\n",
        "# Learned from documentation\n",
        "np.pad(arr3, pad_width=1, constant_values=0)"
      ],
      "metadata": {
        "colab": {
          "base_uri": "https://localhost:8080/"
        },
        "id": "Wkl5jxD5FH8R",
        "outputId": "071b368b-bf28-428a-c8c7-29f920add888"
      },
      "execution_count": 29,
      "outputs": [
        {
          "output_type": "execute_result",
          "data": {
            "text/plain": [
              "array([[ 0.        ,  0.        ,  0.        ,  0.        ,  0.        ,\n",
              "         0.        ],\n",
              "       [ 0.        , 30.07877425, 83.84587067, 94.10633652, 26.89616287,\n",
              "         0.        ],\n",
              "       [ 0.        , 97.40040809, 89.86248064, 37.51259353, 80.09619573,\n",
              "         0.        ],\n",
              "       [ 0.        ,  9.18985411, 42.57720581, 65.28704655, 85.99220328,\n",
              "         0.        ],\n",
              "       [ 0.        , 76.49887046,  0.83371505,  1.19529801,  4.08369764,\n",
              "         0.        ],\n",
              "       [ 0.        ,  0.        ,  0.        ,  0.        ,  0.        ,\n",
              "         0.        ]])"
            ]
          },
          "metadata": {},
          "execution_count": 29
        }
      ]
    },
    {
      "cell_type": "markdown",
      "source": [
        "## 4. Using NumPy, create an array of integers from 10 to 60 with a step of 5."
      ],
      "metadata": {
        "id": "sE_9T2V8HEeq"
      }
    },
    {
      "cell_type": "code",
      "source": [
        "arr4 = np.linspace(10, 60, 5)"
      ],
      "metadata": {
        "id": "r2_TY2-zGzQu"
      },
      "execution_count": 30,
      "outputs": []
    },
    {
      "cell_type": "code",
      "source": [
        "arr4"
      ],
      "metadata": {
        "colab": {
          "base_uri": "https://localhost:8080/"
        },
        "id": "uLFnZotyHMCS",
        "outputId": "d78068cd-5738-4ade-e070-c40be573c04f"
      },
      "execution_count": 31,
      "outputs": [
        {
          "output_type": "execute_result",
          "data": {
            "text/plain": [
              "array([10. , 22.5, 35. , 47.5, 60. ])"
            ]
          },
          "metadata": {},
          "execution_count": 31
        }
      ]
    },
    {
      "cell_type": "markdown",
      "source": [
        "## 5. Create a NumPy array of strings ['python', 'numpy', 'pandas']. Apply different case transformations (uppercase, lowercase, title case, etc.) to each element."
      ],
      "metadata": {
        "id": "se3p3pIMHT5x"
      }
    },
    {
      "cell_type": "code",
      "source": [
        "arr5 = np.array(['python', 'numpy', 'pandas'])"
      ],
      "metadata": {
        "id": "Z3f0VYw2HM82"
      },
      "execution_count": 32,
      "outputs": []
    },
    {
      "cell_type": "code",
      "source": [
        "upper_case = np.char.upper(arr5)\n",
        "lower_case = np.char.lower(arr5)\n",
        "title_case = np.char.title(arr5)\n",
        "capital_case = np.char.capitalize(arr5)"
      ],
      "metadata": {
        "id": "6_VsW5KWHbnT"
      },
      "execution_count": 36,
      "outputs": []
    },
    {
      "cell_type": "code",
      "source": [
        "print(upper_case)\n",
        "print(lower_case)\n",
        "print(title_case)\n",
        "print(capital_case)"
      ],
      "metadata": {
        "colab": {
          "base_uri": "https://localhost:8080/"
        },
        "id": "5jLuCGfuHigT",
        "outputId": "7efecb07-9a99-4bcf-f5d2-0d8dfb55b916"
      },
      "execution_count": 37,
      "outputs": [
        {
          "output_type": "stream",
          "name": "stdout",
          "text": [
            "['PYTHON' 'NUMPY' 'PANDAS']\n",
            "['python' 'numpy' 'pandas']\n",
            "['Python' 'Numpy' 'Pandas']\n",
            "['Python' 'Numpy' 'Pandas']\n"
          ]
        }
      ]
    },
    {
      "cell_type": "markdown",
      "source": [
        "## 6. Generate a NumPy array of words. Insert a space between each character of every word in the array"
      ],
      "metadata": {
        "id": "LHM-9IoOIGu9"
      }
    },
    {
      "cell_type": "code",
      "source": [
        "arr6 = np.array(['python', 'numpy', 'pandas'])"
      ],
      "metadata": {
        "id": "ClNuo73WH-1Q"
      },
      "execution_count": 39,
      "outputs": []
    },
    {
      "cell_type": "code",
      "source": [
        "# Errored Code\n",
        "\n",
        "# np.char.split(arr6)\n",
        "\n",
        "np.char.join(' ',arr6)"
      ],
      "metadata": {
        "colab": {
          "base_uri": "https://localhost:8080/"
        },
        "id": "KVuKajO4IVG6",
        "outputId": "fd9e6e58-8655-4995-8357-91a3c71f782f"
      },
      "execution_count": 43,
      "outputs": [
        {
          "output_type": "execute_result",
          "data": {
            "text/plain": [
              "array(['p y t h o n', 'n u m p y', 'p a n d a s'], dtype='<U11')"
            ]
          },
          "metadata": {},
          "execution_count": 43
        }
      ]
    },
    {
      "cell_type": "markdown",
      "source": [
        "## 7. Create two 2D NumPy arrays and perform element-wise addition, subtraction, multiplication, and division."
      ],
      "metadata": {
        "id": "gJLCHMedKqaw"
      }
    },
    {
      "cell_type": "code",
      "source": [
        "arr7_1 = np.random.randint(1,10, (2,2))\n",
        "arr7_2 = np.random.randint(1,10, (2,2))"
      ],
      "metadata": {
        "id": "xlBLtNfDKpy2"
      },
      "execution_count": 44,
      "outputs": []
    },
    {
      "cell_type": "code",
      "source": [
        "print(arr7_1)\n",
        "print(arr7_2)"
      ],
      "metadata": {
        "colab": {
          "base_uri": "https://localhost:8080/"
        },
        "id": "wqdmGPCcLOP0",
        "outputId": "41c38d90-95c8-48b2-b62e-80489df47380"
      },
      "execution_count": 46,
      "outputs": [
        {
          "output_type": "stream",
          "name": "stdout",
          "text": [
            "[[2 9]\n",
            " [2 3]]\n",
            "[[6 9]\n",
            " [3 4]]\n"
          ]
        }
      ]
    },
    {
      "cell_type": "code",
      "source": [
        "print(arr7_1 + arr7_2)\n",
        "print(arr7_1 - arr7_2)\n",
        "print(arr7_1 * arr7_2)\n",
        "print(arr7_1 / arr7_2)"
      ],
      "metadata": {
        "colab": {
          "base_uri": "https://localhost:8080/"
        },
        "id": "BeKeljnkIwhP",
        "outputId": "793abc80-5639-4ca6-efc1-95e26abbb148"
      },
      "execution_count": 45,
      "outputs": [
        {
          "output_type": "stream",
          "name": "stdout",
          "text": [
            "[[ 8 18]\n",
            " [ 5  7]]\n",
            "[[-4  0]\n",
            " [-1 -1]]\n",
            "[[12 81]\n",
            " [ 6 12]]\n",
            "[[0.33333333 1.        ]\n",
            " [0.66666667 0.75      ]]\n"
          ]
        }
      ]
    },
    {
      "cell_type": "markdown",
      "source": [
        "## 8. Use NumPy to create a 5x5 identity matrix, then extract its diagonal elements"
      ],
      "metadata": {
        "id": "ms4u0R11LYrT"
      }
    },
    {
      "cell_type": "code",
      "source": [
        "arr8 = np.eye(5)"
      ],
      "metadata": {
        "id": "VMImKtr4LL9Q"
      },
      "execution_count": 51,
      "outputs": []
    },
    {
      "cell_type": "code",
      "source": [
        "# Code logic where i==j i.e row and column value must be same or we can say that value of is equal to 1.\n",
        "\n",
        "np.where(arr8 == 1)"
      ],
      "metadata": {
        "colab": {
          "base_uri": "https://localhost:8080/"
        },
        "id": "cLq7JN-ZLeqR",
        "outputId": "419b7e18-4496-4728-dd99-36aa182da5b2"
      },
      "execution_count": 52,
      "outputs": [
        {
          "output_type": "execute_result",
          "data": {
            "text/plain": [
              "(array([0, 1, 2, 3, 4]), array([0, 1, 2, 3, 4]))"
            ]
          },
          "metadata": {},
          "execution_count": 52
        }
      ]
    },
    {
      "cell_type": "code",
      "source": [
        "arr8[arr8 == 1]"
      ],
      "metadata": {
        "colab": {
          "base_uri": "https://localhost:8080/"
        },
        "id": "4micRH4JL8Ww",
        "outputId": "aedf043e-60e5-4f67-d794-b11ddbb5ad24"
      },
      "execution_count": 53,
      "outputs": [
        {
          "output_type": "execute_result",
          "data": {
            "text/plain": [
              "array([1., 1., 1., 1., 1.])"
            ]
          },
          "metadata": {},
          "execution_count": 53
        }
      ]
    },
    {
      "cell_type": "markdown",
      "source": [
        "## 9. Generate a NumPy array of 100 random integers between 0 and 1000. Find and display all prime numbers in this array."
      ],
      "metadata": {
        "id": "Uudny19NMVFw"
      }
    },
    {
      "cell_type": "code",
      "source": [
        "arr9 = np.random.randint(0, 1000, 100)"
      ],
      "metadata": {
        "id": "Wri8Pez6MKKm"
      },
      "execution_count": 55,
      "outputs": []
    },
    {
      "cell_type": "code",
      "source": [
        "arr9"
      ],
      "metadata": {
        "colab": {
          "base_uri": "https://localhost:8080/"
        },
        "id": "GKau5VcqMghn",
        "outputId": "9838a95b-124e-4119-c568-2b5db6edb3c5"
      },
      "execution_count": 56,
      "outputs": [
        {
          "output_type": "execute_result",
          "data": {
            "text/plain": [
              "array([196, 348,  64, 373,  17, 273, 104, 511, 845, 828, 508, 718, 335,\n",
              "       423, 352, 723, 378, 359, 735, 454, 168, 712, 361, 682, 502, 903,\n",
              "       418, 191, 246, 291, 172, 751, 112, 529, 226, 318, 879, 430,  39,\n",
              "       907, 310,  93, 322, 909,  60, 696,  70, 126, 856, 934, 300, 467,\n",
              "       283, 891, 289, 572, 312,  87, 452, 745, 674, 236, 239,  43, 448,\n",
              "       232, 481, 318, 119, 572, 710, 565, 885,  78, 827, 997, 304,  84,\n",
              "       694, 159, 281, 108, 601, 921, 435,  68, 769, 695, 364, 669, 188,\n",
              "       959, 730, 884,  35, 446, 820, 248, 148, 124])"
            ]
          },
          "metadata": {},
          "execution_count": 56
        }
      ]
    },
    {
      "cell_type": "code",
      "source": [
        "arr9.shape"
      ],
      "metadata": {
        "colab": {
          "base_uri": "https://localhost:8080/"
        },
        "id": "eKgRqNgvMkx8",
        "outputId": "43091077-a051-47d5-e346-ee2cf3d16f78"
      },
      "execution_count": 58,
      "outputs": [
        {
          "output_type": "execute_result",
          "data": {
            "text/plain": [
              "(100,)"
            ]
          },
          "metadata": {},
          "execution_count": 58
        }
      ]
    },
    {
      "cell_type": "code",
      "source": [
        "def prime_num(arrays):\n",
        "  for num in arrays:\n",
        "    if num > 1:\n",
        "      for i in range(2, num): # num is exclusive, condtion for prime num is :- num must be divisible by 1 and num itself.\n",
        "        if (num % i) == 0:\n",
        "          break\n",
        "      else:\n",
        "        print(num)"
      ],
      "metadata": {
        "id": "jhEldjGwMmjN"
      },
      "execution_count": 59,
      "outputs": []
    },
    {
      "cell_type": "code",
      "source": [
        "prime_num(arr9)"
      ],
      "metadata": {
        "colab": {
          "base_uri": "https://localhost:8080/"
        },
        "id": "_LCUwq2zNGzQ",
        "outputId": "a67207c9-0e28-4234-89eb-6f658503b318"
      },
      "execution_count": 60,
      "outputs": [
        {
          "output_type": "stream",
          "name": "stdout",
          "text": [
            "373\n",
            "17\n",
            "359\n",
            "191\n",
            "751\n",
            "907\n",
            "467\n",
            "283\n",
            "239\n",
            "43\n",
            "827\n",
            "997\n",
            "281\n",
            "601\n",
            "769\n"
          ]
        }
      ]
    },
    {
      "cell_type": "markdown",
      "source": [
        "## 10. Create a NumPy array representing daily temperatures for a month. Calculate and display the weekly averages."
      ],
      "metadata": {
        "id": "cUZWtreiNglr"
      }
    },
    {
      "cell_type": "code",
      "source": [
        "temp_c = np.random.randint(10, 40, 30)"
      ],
      "metadata": {
        "id": "4GZyu7_5NIgj"
      },
      "execution_count": 65,
      "outputs": []
    },
    {
      "cell_type": "code",
      "source": [
        "temp_c"
      ],
      "metadata": {
        "colab": {
          "base_uri": "https://localhost:8080/"
        },
        "id": "3pntTck3Nw_n",
        "outputId": "a10c24b7-cd44-4981-f73d-d8636c2ecf42"
      },
      "execution_count": 66,
      "outputs": [
        {
          "output_type": "execute_result",
          "data": {
            "text/plain": [
              "array([27, 18, 10, 32, 11, 18, 14, 27, 20, 25, 27, 39, 16, 21, 17, 25, 31,\n",
              "       31, 23, 25, 24, 23, 24, 10, 29, 11, 30, 17, 12, 28])"
            ]
          },
          "metadata": {},
          "execution_count": 66
        }
      ]
    },
    {
      "cell_type": "code",
      "source": [
        "for i in range(0, len(temp_c),7):\n",
        "  print(np.mean(i))\n"
      ],
      "metadata": {
        "colab": {
          "base_uri": "https://localhost:8080/"
        },
        "id": "LqhB_egUNy_2",
        "outputId": "1a122aac-e08b-49eb-9117-af9d616e21de"
      },
      "execution_count": 67,
      "outputs": [
        {
          "output_type": "stream",
          "name": "stdout",
          "text": [
            "0.0\n",
            "7.0\n",
            "14.0\n",
            "21.0\n",
            "28.0\n"
          ]
        }
      ]
    },
    {
      "cell_type": "code",
      "source": [],
      "metadata": {
        "id": "7-QJ4l31Ozh-"
      },
      "execution_count": null,
      "outputs": []
    }
  ]
}